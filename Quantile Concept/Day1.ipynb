{
 "cells": [
  {
   "cell_type": "markdown",
   "id": "f789c0c1-7978-41b6-83a2-2e3607116b8e",
   "metadata": {},
   "source": [
    "# Quantile"
   ]
  },
  {
   "cell_type": "code",
   "execution_count": 10,
   "id": "f498d142-91af-45b4-97a7-765a9e049802",
   "metadata": {},
   "outputs": [],
   "source": [
    "import pandas as pd  \r\n"
   ]
  },
  {
   "cell_type": "code",
   "execution_count": 11,
   "id": "f4281f8d-7221-4f3e-bd9b-a4e9d13ae38b",
   "metadata": {},
   "outputs": [],
   "source": [
    "df = pd.DataFrame({\"A\":[1, 5, 3, 4, 2], \n",
    "                   \"B\":[3, 2, 4, 3, 4], \n",
    "                   \"C\":[2, 2, 7, 3, 4],  \n",
    "                   \"D\":[4, 3, 6, 12, 7]}) "
   ]
  },
  {
   "cell_type": "code",
   "execution_count": 12,
   "id": "71896369-1fa9-4406-841e-ced3060de457",
   "metadata": {},
   "outputs": [
    {
     "name": "stdout",
     "output_type": "stream",
     "text": [
      "   A  B  C   D\n",
      "0  1  3  2   4\n",
      "1  5  2  2   3\n",
      "2  3  4  7   6\n",
      "3  4  3  3  12\n",
      "4  2  4  4   7\n"
     ]
    }
   ],
   "source": [
    "print(df)"
   ]
  },
  {
   "cell_type": "code",
   "execution_count": 13,
   "id": "9b2b8f28-1dcc-4270-afd8-172b2baea478",
   "metadata": {},
   "outputs": [
    {
     "data": {
      "text/plain": [
       "A    1.8\n",
       "B    2.8\n",
       "C    2.0\n",
       "D    3.8\n",
       "Name: 0.2, dtype: float64"
      ]
     },
     "execution_count": 13,
     "metadata": {},
     "output_type": "execute_result"
    }
   ],
   "source": [
    "df.quantile(.2, axis = 0) "
   ]
  },
  {
   "cell_type": "code",
   "execution_count": null,
   "id": "44af84c8-9d82-4011-9125-6cdf844c3c34",
   "metadata": {},
   "outputs": [],
   "source": []
  }
 ],
 "metadata": {
  "kernelspec": {
   "display_name": "Python 3 (ipykernel)",
   "language": "python",
   "name": "python3"
  },
  "language_info": {
   "codemirror_mode": {
    "name": "ipython",
    "version": 3
   },
   "file_extension": ".py",
   "mimetype": "text/x-python",
   "name": "python",
   "nbconvert_exporter": "python",
   "pygments_lexer": "ipython3",
   "version": "3.11.7"
  }
 },
 "nbformat": 4,
 "nbformat_minor": 5
}
