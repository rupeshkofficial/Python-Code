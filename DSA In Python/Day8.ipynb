{
 "cells": [
  {
   "cell_type": "markdown",
   "id": "23c0e542-bdc0-4bf9-9544-51dd83372c7b",
   "metadata": {},
   "source": [
    "# Tuples\n",
    " Tuples are similar to list but tuple is immutable whereas list is mutable"
   ]
  },
  {
   "cell_type": "code",
   "execution_count": 4,
   "id": "d34dd944-7d37-4f53-a2e6-641019915846",
   "metadata": {},
   "outputs": [],
   "source": [
    "list_1 = [1,2,3,4]"
   ]
  },
  {
   "cell_type": "code",
   "execution_count": null,
   "id": "fad9e12b-2b82-4910-9a57-371f7aceaa51",
   "metadata": {},
   "outputs": [],
   "source": [
    "print(l"
   ]
  }
 ],
 "metadata": {
  "kernelspec": {
   "display_name": "Python 3 (ipykernel)",
   "language": "python",
   "name": "python3"
  },
  "language_info": {
   "codemirror_mode": {
    "name": "ipython",
    "version": 3
   },
   "file_extension": ".py",
   "mimetype": "text/x-python",
   "name": "python",
   "nbconvert_exporter": "python",
   "pygments_lexer": "ipython3",
   "version": "3.11.7"
  }
 },
 "nbformat": 4,
 "nbformat_minor": 5
}
