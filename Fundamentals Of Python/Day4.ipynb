{
 "cells": [
  {
   "cell_type": "markdown",
   "id": "d3a7c223-18dd-4804-9ecf-fee4d6591699",
   "metadata": {},
   "source": [
    "#Some More Operators"
   ]
  },
  {
   "cell_type": "code",
   "execution_count": 1,
   "id": "4b0ae4e3-8c3c-4b0c-bd19-98d4f7adbc77",
   "metadata": {},
   "outputs": [
    {
     "name": "stdout",
     "output_type": "stream",
     "text": [
      "True\n"
     ]
    }
   ],
   "source": [
    "#greater than or equal to (>=)\n",
    "\n",
    "a = 13\n",
    "b = 13\n",
    "print(b>=a)"
   ]
  },
  {
   "cell_type": "code",
   "execution_count": 3,
   "id": "7edf3b6b-bb37-468f-b136-5c775a194855",
   "metadata": {},
   "outputs": [
    {
     "name": "stdout",
     "output_type": "stream",
     "text": [
      "True\n"
     ]
    }
   ],
   "source": [
    "#less than or equal to (<=)\n",
    "\n",
    "a = 14\n",
    "b = 14\n",
    "print(a<=b)"
   ]
  },
  {
   "cell_type": "code",
   "execution_count": 4,
   "id": "56b585b3-d859-45b7-9df4-bea889f0b1e0",
   "metadata": {},
   "outputs": [
    {
     "name": "stdout",
     "output_type": "stream",
     "text": [
      "6\n"
     ]
    }
   ],
   "source": [
    "#mod operator (%) --> return Remainder\n",
    "\n",
    "a = 97\n",
    "b = 7\n",
    "print(a%b)"
   ]
  },
  {
   "cell_type": "code",
   "execution_count": 6,
   "id": "4f64ae30-2366-4f98-bef6-57905957d2a7",
   "metadata": {},
   "outputs": [
    {
     "name": "stdout",
     "output_type": "stream",
     "text": [
      "0\n",
      "7\n"
     ]
    }
   ],
   "source": [
    "a = 14 \n",
    "b = 7\n",
    "print(a%b)\n",
    "print(b%a)"
   ]
  },
  {
   "cell_type": "markdown",
   "id": "0607187b-e01b-4a53-8798-0cb0270d6a4a",
   "metadata": {},
   "source": [
    "#Conditional Statment"
   ]
  },
  {
   "cell_type": "code",
   "execution_count": 2,
   "id": "58b81be8-253b-49bf-8156-5bad8a3e8c5f",
   "metadata": {},
   "outputs": [
    {
     "name": "stdin",
     "output_type": "stream",
     "text": [
      "Enter a number: 32\n"
     ]
    },
    {
     "name": "stdout",
     "output_type": "stream",
     "text": [
      "Number is not divisible by 3\n"
     ]
    }
   ],
   "source": [
    "#To check number is divisible by 3 or not\n",
    "\n",
    "number = int(input(\"Enter a number:\"))\n",
    "if (number%3==0):\n",
    "    print(\"Number is divisible by 3\")\n",
    "else:\n",
    "    print(\"Number is not divisible by 3\")\n",
    "    \n"
   ]
  },
  {
   "cell_type": "code",
   "execution_count": 5,
   "id": "84909795-0bd2-479c-9db0-f9c8bedc5d49",
   "metadata": {},
   "outputs": [
    {
     "name": "stdin",
     "output_type": "stream",
     "text": [
      "Enter Your Age: 24\n"
     ]
    },
    {
     "name": "stdout",
     "output_type": "stream",
     "text": [
      "You can Vote Bro!!\n"
     ]
    }
   ],
   "source": [
    "#To check for vote eligibility\n",
    "\n",
    "age = int(input(\"Enter Your Age:\"))\n",
    "if (age>=18):\n",
    "    print(\"You can Vote Bro!!\")\n",
    "else:\n",
    "    print(\"You can't vote\")"
   ]
  },
  {
   "cell_type": "markdown",
   "id": "38b62f55-8fed-4112-913c-47cc4334fe61",
   "metadata": {},
   "source": [
    "#Indentation"
   ]
  },
  {
   "cell_type": "code",
   "execution_count": 8,
   "id": "eb64b8e5-3729-4da3-a9de-6054ccab4aa6",
   "metadata": {},
   "outputs": [
    {
     "name": "stdin",
     "output_type": "stream",
     "text": [
      "Enter a number: 34\n"
     ]
    },
    {
     "name": "stdout",
     "output_type": "stream",
     "text": [
      "Number is divisible by 17\n"
     ]
    }
   ],
   "source": [
    "#To check number is divisible by 17 or not\n",
    "\n",
    "number = int(input(\"Enter a number:\"))\n",
    "if (number%17==0):\n",
    "    print(\"Number is divisible by 17\")\n",
    "else:\n",
    "    print(\"Number is not divisible by 17\")\n",
    "    "
   ]
  },
  {
   "cell_type": "code",
   "execution_count": 11,
   "id": "8b95d6e4-92b0-4ec0-ac04-5c4ee0ec901f",
   "metadata": {},
   "outputs": [
    {
     "name": "stdin",
     "output_type": "stream",
     "text": [
      "Enter Your Age: 34\n"
     ]
    },
    {
     "name": "stdout",
     "output_type": "stream",
     "text": [
      "You can Vote Bro!!\n",
      "You are in if block\n",
      "Code Finished\n"
     ]
    }
   ],
   "source": [
    "#To check for vote eligibility\n",
    "\n",
    "age = int(input(\"Enter Your Age:\"))\n",
    "\n",
    "if (age>=18):\n",
    "    print(\"You can Vote Bro!!\")\n",
    "    print(\"You are in if block\")\n",
    "else:\n",
    "    print(\"You can't vote\")\n",
    "    print(\"You are in else block\")\n",
    "\n",
    "print(\"Code Finished\")"
   ]
  },
  {
   "cell_type": "code",
   "execution_count": null,
   "id": "4f0f3b83-ef88-4175-a6e1-48b0ad3118a6",
   "metadata": {},
   "outputs": [],
   "source": []
  }
 ],
 "metadata": {
  "kernelspec": {
   "display_name": "Python 3 (ipykernel)",
   "language": "python",
   "name": "python3"
  },
  "language_info": {
   "codemirror_mode": {
    "name": "ipython",
    "version": 3
   },
   "file_extension": ".py",
   "mimetype": "text/x-python",
   "name": "python",
   "nbconvert_exporter": "python",
   "pygments_lexer": "ipython3",
   "version": "3.11.7"
  }
 },
 "nbformat": 4,
 "nbformat_minor": 5
}
