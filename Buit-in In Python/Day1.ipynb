{
 "cells": [
  {
   "cell_type": "markdown",
   "id": "f585efac-8dfc-465b-b6a3-9ff31e2d2605",
   "metadata": {},
   "source": [
    "# Built in Functions"
   ]
  },
  {
   "cell_type": "markdown",
   "id": "70e7fbf1-5e96-43d1-a231-14c2c1fae7bd",
   "metadata": {},
   "source": [
    "# 1. print"
   ]
  },
  {
   "cell_type": "code",
   "execution_count": 1,
   "id": "e63db99a-5c01-4b45-b7b1-d71aea6c1c56",
   "metadata": {},
   "outputs": [
    {
     "name": "stdout",
     "output_type": "stream",
     "text": [
      "Hello World\n"
     ]
    }
   ],
   "source": [
    "print(\"Hello World\")"
   ]
  },
  {
   "cell_type": "markdown",
   "id": "1d2d4db8-8dac-47f8-b3af-ead717638ab2",
   "metadata": {},
   "source": [
    "# 2. input"
   ]
  },
  {
   "cell_type": "code",
   "execution_count": 2,
   "id": "b02637ec-b3b7-46d0-b498-650bef673f3b",
   "metadata": {},
   "outputs": [
    {
     "name": "stdin",
     "output_type": "stream",
     "text": [
      "Enter Your name Raja\n"
     ]
    },
    {
     "data": {
      "text/plain": [
       "'Raja'"
      ]
     },
     "execution_count": 2,
     "metadata": {},
     "output_type": "execute_result"
    }
   ],
   "source": [
    "input(\"Enter Your name\")"
   ]
  },
  {
   "cell_type": "markdown",
   "id": "4523ecdd-2f60-423b-83b3-a58522aba998",
   "metadata": {},
   "source": [
    "# 3. type"
   ]
  },
  {
   "cell_type": "code",
   "execution_count": 4,
   "id": "8276889d-e536-445d-910b-efb397122fcc",
   "metadata": {},
   "outputs": [
    {
     "data": {
      "text/plain": [
       "bool"
      ]
     },
     "execution_count": 4,
     "metadata": {},
     "output_type": "execute_result"
    }
   ],
   "source": [
    "a = True\n",
    "type(a)"
   ]
  },
  {
   "cell_type": "markdown",
   "id": "9e22fa72-0d28-4add-bf4f-98b5e52ea764",
   "metadata": {},
   "source": [
    "# 4. int etc."
   ]
  },
  {
   "cell_type": "code",
   "execution_count": 5,
   "id": "92785cad-d20d-4f89-80c4-2baf244e9990",
   "metadata": {},
   "outputs": [
    {
     "data": {
      "text/plain": [
       "5"
      ]
     },
     "execution_count": 5,
     "metadata": {},
     "output_type": "execute_result"
    }
   ],
   "source": [
    "int (5.6)\n",
    "\n",
    "#float\n",
    "#str\n",
    "#list\n",
    "#tuple"
   ]
  },
  {
   "cell_type": "markdown",
   "id": "c0e29239-5185-4625-9ea9-4d53147f01f2",
   "metadata": {},
   "source": [
    "# 5. abs --> print absolute value"
   ]
  },
  {
   "cell_type": "code",
   "execution_count": 6,
   "id": "3d8434d4-ae6c-4fdd-b24e-df75f4d4781e",
   "metadata": {},
   "outputs": [
    {
     "data": {
      "text/plain": [
       "4"
      ]
     },
     "execution_count": 6,
     "metadata": {},
     "output_type": "execute_result"
    }
   ],
   "source": [
    "abs(-4)"
   ]
  },
  {
   "cell_type": "markdown",
   "id": "291d8b3d-3e63-4467-8a36-8250af6abd9b",
   "metadata": {},
   "source": [
    "# 6. pow"
   ]
  },
  {
   "cell_type": "code",
   "execution_count": 9,
   "id": "994fcf51-ed9f-42f7-9e65-22db60689e52",
   "metadata": {},
   "outputs": [
    {
     "data": {
      "text/plain": [
       "8"
      ]
     },
     "execution_count": 9,
     "metadata": {},
     "output_type": "execute_result"
    }
   ],
   "source": [
    "pow(2,3) # 2 to the power 3"
   ]
  },
  {
   "cell_type": "markdown",
   "id": "55beb985-9104-4a17-a9eb-37d2c00917b1",
   "metadata": {},
   "source": [
    "# 7. min/max"
   ]
  },
  {
   "cell_type": "code",
   "execution_count": 46,
   "id": "28d3282f-a7ae-4266-a73e-36ac24a26f8f",
   "metadata": {},
   "outputs": [
    {
     "data": {
      "text/plain": [
       "1"
      ]
     },
     "execution_count": 46,
     "metadata": {},
     "output_type": "execute_result"
    }
   ],
   "source": [
    "min([2,1,3,5,7])"
   ]
  },
  {
   "cell_type": "code",
   "execution_count": 47,
   "id": "a7061dd4-0c75-4128-a677-4f5bdd6c0447",
   "metadata": {},
   "outputs": [
    {
     "data": {
      "text/plain": [
       "7"
      ]
     },
     "execution_count": 47,
     "metadata": {},
     "output_type": "execute_result"
    }
   ],
   "source": [
    "max([2,1,3,5,7])"
   ]
  },
  {
   "cell_type": "code",
   "execution_count": 48,
   "id": "58357486-15fd-4265-b191-267f7f0eb5ff",
   "metadata": {},
   "outputs": [
    {
     "data": {
      "text/plain": [
       "'a'"
      ]
     },
     "execution_count": 48,
     "metadata": {},
     "output_type": "execute_result"
    }
   ],
   "source": [
    "min(\"kolkata\")  # Return the letter those whose ASCII value is min\n"
   ]
  },
  {
   "cell_type": "code",
   "execution_count": 49,
   "id": "b19ddb3d-3d46-48e8-99eb-4277afd40ca7",
   "metadata": {},
   "outputs": [
    {
     "data": {
      "text/plain": [
       "'t'"
      ]
     },
     "execution_count": 49,
     "metadata": {},
     "output_type": "execute_result"
    }
   ],
   "source": [
    "max(\"kolkata\")   # Return the letter those whose ASCII value is max"
   ]
  },
  {
   "cell_type": "markdown",
   "id": "2c2108b7-3e43-4a84-b5aa-0595bddeea66",
   "metadata": {},
   "source": [
    "# 8. round  --> For upto decimal value i.e nearest value"
   ]
  },
  {
   "cell_type": "code",
   "execution_count": 21,
   "id": "189996d3-fa50-4fba-9c56-31987ba0fb44",
   "metadata": {},
   "outputs": [
    {
     "name": "stdout",
     "output_type": "stream",
     "text": [
      "7.333333333333333\n",
      "7\n"
     ]
    }
   ],
   "source": [
    "c = 22 / 3\n",
    "print(c)\n",
    "print(round(c))"
   ]
  },
  {
   "cell_type": "markdown",
   "id": "ed686832-1d1b-4784-ae08-94bc9c8327b4",
   "metadata": {},
   "source": [
    "# 9. divmod  --> 1st result will be integer division and 2nd will be modulus result"
   ]
  },
  {
   "cell_type": "code",
   "execution_count": 25,
   "id": "56ef9fc9-d4aa-491f-9cb5-e9c966f18d89",
   "metadata": {},
   "outputs": [
    {
     "data": {
      "text/plain": [
       "(2, 1)"
      ]
     },
     "execution_count": 25,
     "metadata": {},
     "output_type": "execute_result"
    }
   ],
   "source": [
    "divmod(5,2)"
   ]
  },
  {
   "cell_type": "markdown",
   "id": "c875422e-862d-4f74-923f-1cfee3a9fb7b",
   "metadata": {},
   "source": [
    "# 10. bin/oct/hex"
   ]
  },
  {
   "cell_type": "code",
   "execution_count": 30,
   "id": "f444840c-23eb-4461-85f7-6cc1518ce7f4",
   "metadata": {},
   "outputs": [
    {
     "name": "stdout",
     "output_type": "stream",
     "text": [
      "0b100\n",
      "0o4\n",
      "0x4\n"
     ]
    }
   ],
   "source": [
    "print(bin(4))\n",
    "print(oct(4))\n",
    "print(hex(4))"
   ]
  },
  {
   "cell_type": "markdown",
   "id": "165db405-06df-415b-87ad-a3f2db699012",
   "metadata": {},
   "source": [
    "# 11. id --> id of variable in memory"
   ]
  },
  {
   "cell_type": "code",
   "execution_count": 33,
   "id": "06dd8058-7249-41e2-b19f-42edf263caea",
   "metadata": {},
   "outputs": [
    {
     "data": {
      "text/plain": [
       "140729216058536"
      ]
     },
     "execution_count": 33,
     "metadata": {},
     "output_type": "execute_result"
    }
   ],
   "source": [
    "a = 13\n",
    "id(a)\n"
   ]
  },
  {
   "cell_type": "markdown",
   "id": "34c930e1-0b48-452b-ba47-e0806e0bec4c",
   "metadata": {},
   "source": [
    "# 12. ord  --> Return ASCII Value"
   ]
  },
  {
   "cell_type": "code",
   "execution_count": 38,
   "id": "44f8bbc0-490b-47e4-ad5c-9ee0bcd55cf6",
   "metadata": {},
   "outputs": [
    {
     "data": {
      "text/plain": [
       "65"
      ]
     },
     "execution_count": 38,
     "metadata": {},
     "output_type": "execute_result"
    }
   ],
   "source": [
    "ord('A') "
   ]
  },
  {
   "cell_type": "markdown",
   "id": "2ea316d4-51db-4e68-94f5-ce42c5ad3c59",
   "metadata": {},
   "source": [
    "# 13. len --> Return length"
   ]
  },
  {
   "cell_type": "code",
   "execution_count": 40,
   "id": "5ce276c2-d74a-4e33-9394-bc7ef33f7a22",
   "metadata": {},
   "outputs": [
    {
     "data": {
      "text/plain": [
       "3"
      ]
     },
     "execution_count": 40,
     "metadata": {},
     "output_type": "execute_result"
    }
   ],
   "source": [
    "len ([1,2,3])"
   ]
  },
  {
   "cell_type": "markdown",
   "id": "c61a7b46-a9ba-455a-8e79-379840048d9a",
   "metadata": {},
   "source": [
    "# 14. sum"
   ]
  },
  {
   "cell_type": "code",
   "execution_count": 42,
   "id": "8e1a1da1-227a-42c0-b7eb-d6e134d00867",
   "metadata": {},
   "outputs": [
    {
     "data": {
      "text/plain": [
       "15"
      ]
     },
     "execution_count": 42,
     "metadata": {},
     "output_type": "execute_result"
    }
   ],
   "source": [
    "sum([1,2,3,4,5])"
   ]
  },
  {
   "cell_type": "markdown",
   "id": "cdc1346b-ee10-4372-8649-f8d65d866ed3",
   "metadata": {},
   "source": [
    "# 15. help  --> To read the documentation of a function"
   ]
  },
  {
   "cell_type": "code",
   "execution_count": 44,
   "id": "b9cb33f6-b6a0-49ae-aca3-3614fe041f51",
   "metadata": {},
   "outputs": [
    {
     "name": "stdout",
     "output_type": "stream",
     "text": [
      "Help on built-in function print in module builtins:\n",
      "\n",
      "print(*args, sep=' ', end='\\n', file=None, flush=False)\n",
      "    Prints the values to a stream, or to sys.stdout by default.\n",
      "    \n",
      "    sep\n",
      "      string inserted between values, default a space.\n",
      "    end\n",
      "      string appended after the last value, default a newline.\n",
      "    file\n",
      "      a file-like object (stream); defaults to the current sys.stdout.\n",
      "    flush\n",
      "      whether to forcibly flush the stream.\n",
      "\n"
     ]
    }
   ],
   "source": [
    "help('print')"
   ]
  },
  {
   "cell_type": "code",
   "execution_count": 45,
   "id": "39b2d4fa-c28a-4ea9-bd1d-e5b469aa5501",
   "metadata": {},
   "outputs": [
    {
     "name": "stdout",
     "output_type": "stream",
     "text": [
      "Help on built-in function sum in module builtins:\n",
      "\n",
      "sum(iterable, /, start=0)\n",
      "    Return the sum of a 'start' value (default: 0) plus an iterable of numbers\n",
      "    \n",
      "    When the iterable is empty, return the start value.\n",
      "    This function is intended specifically for use with numeric values and may\n",
      "    reject non-numeric types.\n",
      "\n"
     ]
    }
   ],
   "source": [
    "help('sum')"
   ]
  },
  {
   "cell_type": "code",
   "execution_count": null,
   "id": "ecc1201d-df83-4f10-baa6-ab26963e8c5e",
   "metadata": {},
   "outputs": [],
   "source": []
  }
 ],
 "metadata": {
  "kernelspec": {
   "display_name": "Python 3 (ipykernel)",
   "language": "python",
   "name": "python3"
  },
  "language_info": {
   "codemirror_mode": {
    "name": "ipython",
    "version": 3
   },
   "file_extension": ".py",
   "mimetype": "text/x-python",
   "name": "python",
   "nbconvert_exporter": "python",
   "pygments_lexer": "ipython3",
   "version": "3.11.7"
  }
 },
 "nbformat": 4,
 "nbformat_minor": 5
}
