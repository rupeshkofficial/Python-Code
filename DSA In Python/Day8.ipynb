{
 "cells": [
  {
   "cell_type": "code",
   "execution_count": null,
   "id": "f88d7f90-a5bf-4195-829d-33738d6793d4",
   "metadata": {},
   "outputs": [],
   "source": []
  }
 ],
 "metadata": {
  "kernelspec": {
   "display_name": "",
   "name": ""
  },
  "language_info": {
   "name": ""
  }
 },
 "nbformat": 4,
 "nbformat_minor": 5
}
