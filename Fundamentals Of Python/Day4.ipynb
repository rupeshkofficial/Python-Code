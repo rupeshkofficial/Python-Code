{
 "cells": [
  {
   "cell_type": "markdown",
   "id": "d3a7c223-18dd-4804-9ecf-fee4d6591699",
   "metadata": {},
   "source": [
    "#Some More Operators"
   ]
  },
  {
   "cell_type": "code",
   "execution_count": 1,
   "id": "4b0ae4e3-8c3c-4b0c-bd19-98d4f7adbc77",
   "metadata": {},
   "outputs": [
    {
     "name": "stdout",
     "output_type": "stream",
     "text": [
      "True\n"
     ]
    }
   ],
   "source": [
    "#greater than or equal to (>=)\n",
    "\n",
    "a = 13\n",
    "b = 13\n",
    "print(b>=a)"
   ]
  },
  {
   "cell_type": "code",
   "execution_count": 3,
   "id": "7edf3b6b-bb37-468f-b136-5c775a194855",
   "metadata": {},
   "outputs": [
    {
     "name": "stdout",
     "output_type": "stream",
     "text": [
      "True\n"
     ]
    }
   ],
   "source": [
    "#less than or equal to (<=)\n",
    "\n",
    "a = 14\n",
    "b = 14\n",
    "print(a<=b)"
   ]
  },
  {
   "cell_type": "code",
   "execution_count": 4,
   "id": "56b585b3-d859-45b7-9df4-bea889f0b1e0",
   "metadata": {},
   "outputs": [
    {
     "name": "stdout",
     "output_type": "stream",
     "text": [
      "6\n"
     ]
    }
   ],
   "source": [
    "#mod operator (%) --> return Remainder\n",
    "\n",
    "a = 97\n",
    "b = 7\n",
    "print(a%b)"
   ]
  },
  {
   "cell_type": "code",
   "execution_count": 6,
   "id": "4f64ae30-2366-4f98-bef6-57905957d2a7",
   "metadata": {},
   "outputs": [
    {
     "name": "stdout",
     "output_type": "stream",
     "text": [
      "0\n",
      "7\n"
     ]
    }
   ],
   "source": [
    "a = 14 \n",
    "b = 7\n",
    "print(a%b)\n",
    "print(b%a)"
   ]
  },
  {
   "cell_type": "code",
   "execution_count": null,
   "id": "0b4f6092-ad86-475f-aa81-2f2aaf78273b",
   "metadata": {},
   "outputs": [],
   "source": []
  }
 ],
 "metadata": {
  "kernelspec": {
   "display_name": "Python 3 (ipykernel)",
   "language": "python",
   "name": "python3"
  },
  "language_info": {
   "codemirror_mode": {
    "name": "ipython",
    "version": 3
   },
   "file_extension": ".py",
   "mimetype": "text/x-python",
   "name": "python",
   "nbconvert_exporter": "python",
   "pygments_lexer": "ipython3",
   "version": "3.11.7"
  }
 },
 "nbformat": 4,
 "nbformat_minor": 5
}
