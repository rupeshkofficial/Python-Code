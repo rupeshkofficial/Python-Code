{
 "cells": [
  {
   "cell_type": "markdown",
   "id": "e5beec43-c3f1-4bbf-a331-6138d94c4605",
   "metadata": {},
   "source": [
    "#Class (Object Oriented Programming)\n",
    "\n",
    "1. Creating employee class\n",
    "2. repr  --> Representation function\n",
    "3. roles of employee inheritance class\n",
    "4. managers, employess list under him, number of employee under him"
   ]
  },
  {
   "cell_type": "code",
   "execution_count": 16,
   "id": "f3a76bce-ee47-4a03-ac54-b8c0aeb2c513",
   "metadata": {},
   "outputs": [],
   "source": [
    "class Employee:\n",
    "\n",
    "    def __init__(self, name,age):   #constructor\n",
    "        self.name = name\n",
    "        self.age = age\n",
    "        \n",
    "    def introduce(self):           #Instance Method\n",
    "        print(f'hello,Good Morning. My name is {self.name}, and I am {self.age} years old')\n",
    "        \n",
    "    def __repr__(self):\n",
    "\n",
    "        return f'name = {self.name}, age = {self.age}'\n",
    "\n",
    "        "
   ]
  },
  {
   "cell_type": "code",
   "execution_count": 17,
   "id": "88cc6868-004f-4fb3-aaf1-27bf5ff3054b",
   "metadata": {},
   "outputs": [
    {
     "name": "stdout",
     "output_type": "stream",
     "text": [
      "Rupesh 26\n"
     ]
    }
   ],
   "source": [
    "e1 = Employee('Rupesh',26)    #Object Creation of Employee class\n",
    "print(e1.name,e1.age)"
   ]
  },
  {
   "cell_type": "code",
   "execution_count": 18,
   "id": "89f46bd5-be4b-43aa-b709-351e517bf107",
   "metadata": {},
   "outputs": [
    {
     "name": "stdout",
     "output_type": "stream",
     "text": [
      "hello,Good Morning. My name is Rupesh, and I am 26 years old\n"
     ]
    }
   ],
   "source": [
    "e1.introduce()"
   ]
  },
  {
   "cell_type": "code",
   "execution_count": 19,
   "id": "01b985e9-bac8-4392-a96a-aa951b5083e0",
   "metadata": {},
   "outputs": [
    {
     "name": "stdout",
     "output_type": "stream",
     "text": [
      "hello,Good Morning. My name is Priyanshu, and I am 23 years old\n"
     ]
    }
   ],
   "source": [
    "e2 = Employee('Priyanshu',23)\n",
    "e2.introduce()"
   ]
  },
  {
   "cell_type": "code",
   "execution_count": 20,
   "id": "60a62986-41ec-4ed2-861a-c37e11ba35d3",
   "metadata": {},
   "outputs": [
    {
     "name": "stdout",
     "output_type": "stream",
     "text": [
      "name = Priyanshu, age = 23\n"
     ]
    }
   ],
   "source": [
    "print(e2)"
   ]
  },
  {
   "cell_type": "markdown",
   "id": "e2bc7229-1748-4010-ac57-dafea01a45fd",
   "metadata": {},
   "source": [
    "#Creating id for Employee"
   ]
  },
  {
   "cell_type": "code",
   "execution_count": 81,
   "id": "cb1fe242-a3f1-471d-ae35-6caad5c1a570",
   "metadata": {},
   "outputs": [],
   "source": [
    "class Employee:\n",
    "    number_of_employee =0\n",
    "    idseq = 100\n",
    "    employee_database = []\n",
    "\n",
    "    def __init__(self, name,age, is_working = True):   #constructor\n",
    "        self.name = name\n",
    "        self.age = age\n",
    "        self.id = Employee.idseq\n",
    "        self.is_working = is_working\n",
    "        Employee.idseq+=1\n",
    "        Employee.number_of_employee+=1\n",
    "        Employee. employee_database.append(self)\n",
    "        \n",
    "    def introduce(self):           #Instance Method\n",
    "        print(f'hello,Good Morning. My name is {self.name}, and I am {self.age} years old. My Id is {self.id}')\n",
    "\n",
    "    def fire(self):\n",
    "        if(self.is_working == True):\n",
    "           self.is_working = False\n",
    "           Employee.number_of_employee -= 1\n",
    "        else:\n",
    "            print('This employee is already fired')\n",
    "   \n",
    "    def __repr__(self):\n",
    "\n",
    "        return f'(name = {self.name}, age = {self.age})'\n",
    "\n",
    "        "
   ]
  },
  {
   "cell_type": "code",
   "execution_count": 82,
   "id": "60e52831-9d4f-4c2f-a21c-5357a1c89f55",
   "metadata": {},
   "outputs": [],
   "source": [
    "e1 = Employee('Aadarsh',60)"
   ]
  },
  {
   "cell_type": "code",
   "execution_count": 83,
   "id": "c925a472-fdf2-426e-9f9f-4ff9d87a8d2b",
   "metadata": {},
   "outputs": [
    {
     "name": "stdout",
     "output_type": "stream",
     "text": [
      "hello,Good Morning. My name is Aadarsh, and I am 60 years old. My Id is 100\n"
     ]
    }
   ],
   "source": [
    "e1.introduce()"
   ]
  },
  {
   "cell_type": "code",
   "execution_count": 84,
   "id": "05386470-417b-465f-916d-a77edcf5b7ad",
   "metadata": {},
   "outputs": [],
   "source": [
    "e2 = Employee('Ramesh',100)"
   ]
  },
  {
   "cell_type": "code",
   "execution_count": 85,
   "id": "7144ec55-3247-4a75-9ce8-d2c1c254896e",
   "metadata": {},
   "outputs": [
    {
     "name": "stdout",
     "output_type": "stream",
     "text": [
      "hello,Good Morning. My name is Ramesh, and I am 100 years old. My Id is 101\n"
     ]
    }
   ],
   "source": [
    "e2.introduce()"
   ]
  },
  {
   "cell_type": "code",
   "execution_count": 86,
   "id": "e0a8a089-4a25-49df-b4b1-23b8de8e8885",
   "metadata": {},
   "outputs": [
    {
     "data": {
      "text/plain": [
       "2"
      ]
     },
     "execution_count": 86,
     "metadata": {},
     "output_type": "execute_result"
    }
   ],
   "source": [
    "Employee.number_of_employee"
   ]
  },
  {
   "cell_type": "code",
   "execution_count": 87,
   "id": "c5474971-bf5f-4941-a2a8-0e63a9f2f28d",
   "metadata": {},
   "outputs": [
    {
     "data": {
      "text/plain": [
       "[(name = Aadarsh, age = 60), (name = Ramesh, age = 100)]"
      ]
     },
     "execution_count": 87,
     "metadata": {},
     "output_type": "execute_result"
    }
   ],
   "source": [
    "Employee.employee_database"
   ]
  },
  {
   "cell_type": "code",
   "execution_count": 88,
   "id": "47d5f40e-79aa-482b-a32c-2b4f5f359ae5",
   "metadata": {},
   "outputs": [],
   "source": [
    "e1.fire()"
   ]
  },
  {
   "cell_type": "code",
   "execution_count": 89,
   "id": "0e8cbd1d-9f11-4a42-a143-eb4a930a5c9f",
   "metadata": {},
   "outputs": [
    {
     "data": {
      "text/plain": [
       "1"
      ]
     },
     "execution_count": 89,
     "metadata": {},
     "output_type": "execute_result"
    }
   ],
   "source": [
    "Employee.number_of_employee"
   ]
  },
  {
   "cell_type": "code",
   "execution_count": 90,
   "id": "c95b5e76-0563-4a49-99ab-458eb8407006",
   "metadata": {},
   "outputs": [
    {
     "data": {
      "text/plain": [
       "0"
      ]
     },
     "execution_count": 90,
     "metadata": {},
     "output_type": "execute_result"
    }
   ],
   "source": [
    "e2.fire()\n",
    "Employee.number_of_employee"
   ]
  },
  {
   "cell_type": "code",
   "execution_count": 91,
   "id": "0d38891b-a003-4c90-ae48-08f5e24cd3b0",
   "metadata": {},
   "outputs": [
    {
     "name": "stdout",
     "output_type": "stream",
     "text": [
      "This employee is already fired\n"
     ]
    }
   ],
   "source": [
    "e1.fire()\n"
   ]
  },
  {
   "cell_type": "code",
   "execution_count": null,
   "id": "eb1b1839-d6c8-4cc3-bdbc-cd23656889af",
   "metadata": {},
   "outputs": [],
   "source": []
  }
 ],
 "metadata": {
  "kernelspec": {
   "display_name": "Python 3 (ipykernel)",
   "language": "python",
   "name": "python3"
  },
  "language_info": {
   "codemirror_mode": {
    "name": "ipython",
    "version": 3
   },
   "file_extension": ".py",
   "mimetype": "text/x-python",
   "name": "python",
   "nbconvert_exporter": "python",
   "pygments_lexer": "ipython3",
   "version": "3.11.7"
  }
 },
 "nbformat": 4,
 "nbformat_minor": 5
}
