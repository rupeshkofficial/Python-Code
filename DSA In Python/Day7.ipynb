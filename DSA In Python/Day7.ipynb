{
 "cells": [
  {
   "cell_type": "markdown",
   "id": "ec030862-6489-4701-9c03-ff19f327fb2b",
   "metadata": {},
   "source": [
    "# Data Structures In Python\n",
    "\n",
    "1. Strings\n",
    "2. List\n",
    "3. Tuple\n",
    "4. Sets\n",
    "5. Dictionary"
   ]
  },
  {
   "cell_type": "markdown",
   "id": "61527573-ffeb-43f4-b6ea-471c3dfae027",
   "metadata": {},
   "source": [
    "# Strings"
   ]
  },
  {
   "cell_type": "markdown",
   "id": "eb70f4ee-71e1-4a02-a0fe-fbb03d11ed97",
   "metadata": {},
   "source": [
    "String slicing"
   ]
  },
  {
   "cell_type": "code",
   "execution_count": null,
   "id": "6b14c0d4-339f-40b1-ad91-6c67cd8c7f41",
   "metadata": {},
   "outputs": [],
   "source": []
  }
 ],
 "metadata": {
  "kernelspec": {
   "display_name": "Python 3 (ipykernel)",
   "language": "python",
   "name": "python3"
  },
  "language_info": {
   "codemirror_mode": {
    "name": "ipython",
    "version": 3
   },
   "file_extension": ".py",
   "mimetype": "text/x-python",
   "name": "python",
   "nbconvert_exporter": "python",
   "pygments_lexer": "ipython3",
   "version": "3.11.7"
  }
 },
 "nbformat": 4,
 "nbformat_minor": 5
}
