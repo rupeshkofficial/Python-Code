{
 "cells": [
  {
   "cell_type": "markdown",
   "id": "474516ff-af76-4e1f-b2cf-361b0b6bc917",
   "metadata": {},
   "source": [
    "--> Overview of Jupyter Notebook\n"
   ]
  },
  {
   "cell_type": "code",
   "execution_count": 9,
   "id": "573a24ba-d497-47f4-a551-64a862e97f05",
   "metadata": {},
   "outputs": [
    {
     "name": "stdout",
     "output_type": "stream",
     "text": [
      "Rupesh\n"
     ]
    }
   ],
   "source": [
    "#Comment Line\n",
    "print(\"Rupesh\")"
   ]
  },
  {
   "cell_type": "code",
   "execution_count": null,
   "id": "12f1363b-f22e-4fe6-b6e2-c844e1527b36",
   "metadata": {},
   "outputs": [],
   "source": []
  }
 ],
 "metadata": {
  "kernelspec": {
   "display_name": "Python 3 (ipykernel)",
   "language": "python",
   "name": "python3"
  },
  "language_info": {
   "codemirror_mode": {
    "name": "ipython",
    "version": 3
   },
   "file_extension": ".py",
   "mimetype": "text/x-python",
   "name": "python",
   "nbconvert_exporter": "python",
   "pygments_lexer": "ipython3",
   "version": "3.11.7"
  }
 },
 "nbformat": 4,
 "nbformat_minor": 5
}
