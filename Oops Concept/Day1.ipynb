{
 "cells": [
  {
   "cell_type": "markdown",
   "id": "e5beec43-c3f1-4bbf-a331-6138d94c4605",
   "metadata": {},
   "source": [
    "#Class (Object Oriented Programming)\n",
    "\n",
    "1. Creating employee class\n",
    "2. repr\n",
    "3. roles of employee inheritance class\n",
    "4. managers, employess list under him, number of employee under him"
   ]
  },
  {
   "cell_type": "code",
   "execution_count": 9,
   "id": "f3a76bce-ee47-4a03-ac54-b8c0aeb2c513",
   "metadata": {},
   "outputs": [],
   "source": [
    "class Employee:\n",
    "\n",
    "    def __init__(self, name,age):   #constructor\n",
    "        self.name = name\n",
    "        self.age = age\n",
    "        \n",
    "    def introduce(self):           #Instance Method\n",
    "        print(f'hello,Good Morning. My name is {self.name}, and I am {self.age} years old')\n",
    "        "
   ]
  },
  {
   "cell_type": "code",
   "execution_count": 10,
   "id": "88cc6868-004f-4fb3-aaf1-27bf5ff3054b",
   "metadata": {},
   "outputs": [
    {
     "name": "stdout",
     "output_type": "stream",
     "text": [
      "Rupesh 26\n"
     ]
    }
   ],
   "source": [
    "e1 = Employee('Rupesh',26)\n",
    "print(e1.name,e1.age)"
   ]
  },
  {
   "cell_type": "code",
   "execution_count": 11,
   "id": "89f46bd5-be4b-43aa-b709-351e517bf107",
   "metadata": {},
   "outputs": [
    {
     "name": "stdout",
     "output_type": "stream",
     "text": [
      "hello,Good Morning. My name is Rupesh, and I am 26 years old\n"
     ]
    }
   ],
   "source": [
    "e1.introduce()"
   ]
  },
  {
   "cell_type": "code",
   "execution_count": null,
   "id": "01b985e9-bac8-4392-a96a-aa951b5083e0",
   "metadata": {},
   "outputs": [],
   "source": [
    "e2 = Em"
   ]
  }
 ],
 "metadata": {
  "kernelspec": {
   "display_name": "Python 3 (ipykernel)",
   "language": "python",
   "name": "python3"
  },
  "language_info": {
   "codemirror_mode": {
    "name": "ipython",
    "version": 3
   },
   "file_extension": ".py",
   "mimetype": "text/x-python",
   "name": "python",
   "nbconvert_exporter": "python",
   "pygments_lexer": "ipython3",
   "version": "3.11.7"
  }
 },
 "nbformat": 4,
 "nbformat_minor": 5
}
