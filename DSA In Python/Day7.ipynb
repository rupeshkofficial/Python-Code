{
 "cells": [
  {
   "cell_type": "markdown",
   "id": "ec030862-6489-4701-9c03-ff19f327fb2b",
   "metadata": {},
   "source": [
    "# Data Structures In Python\n",
    "\n",
    "1. Strings\n",
    "2. List\n",
    "3. Tuple\n",
    "4. Sets\n",
    "5. Dictionary"
   ]
  },
  {
   "cell_type": "markdown",
   "id": "61527573-ffeb-43f4-b6ea-471c3dfae027",
   "metadata": {},
   "source": [
    "# Strings"
   ]
  },
  {
   "cell_type": "markdown",
   "id": "eb70f4ee-71e1-4a02-a0fe-fbb03d11ed97",
   "metadata": {},
   "source": [
    "String slicing"
   ]
  },
  {
   "cell_type": "code",
   "execution_count": 2,
   "id": "6b14c0d4-339f-40b1-ad91-6c67cd8c7f41",
   "metadata": {},
   "outputs": [
    {
     "name": "stdout",
     "output_type": "stream",
     "text": [
      "H\n"
     ]
    }
   ],
   "source": [
    "my_string = \"Hello this is a sample string\"\n",
    "print(my_string[0]) #0th position"
   ]
  },
  {
   "cell_type": "code",
   "execution_count": 3,
   "id": "d2c79881-c0ac-40a4-acb7-cae3d2d093c9",
   "metadata": {},
   "outputs": [
    {
     "data": {
      "text/plain": [
       "29"
      ]
     },
     "execution_count": 3,
     "metadata": {},
     "output_type": "execute_result"
    }
   ],
   "source": [
    "len(my_string)"
   ]
  },
  {
   "cell_type": "code",
   "execution_count": 4,
   "id": "f54514d1-d120-4068-beb9-a9a77646b296",
   "metadata": {},
   "outputs": [
    {
     "data": {
      "text/plain": [
       "'g'"
      ]
     },
     "execution_count": 4,
     "metadata": {},
     "output_type": "execute_result"
    }
   ],
   "source": [
    "my_string[28]"
   ]
  },
  {
   "cell_type": "code",
   "execution_count": 7,
   "id": "c3f01747-0b4c-4701-bf7b-b1bb34e61d2d",
   "metadata": {},
   "outputs": [
    {
     "name": "stdout",
     "output_type": "stream",
     "text": [
      " this \n"
     ]
    }
   ],
   "source": [
    "print(my_string[5:11]) #11th position will be exclude"
   ]
  },
  {
   "cell_type": "code",
   "execution_count": 8,
   "id": "7bf5e7f0-2fd7-4d00-bf94-2d8c6d537390",
   "metadata": {},
   "outputs": [
    {
     "name": "stdout",
     "output_type": "stream",
     "text": [
      "g\n",
      "n\n",
      "Hello\n"
     ]
    }
   ],
   "source": [
    "print(my_string[-1])\n",
    "print(my_string[-2])\n",
    "print(my_string[:5])"
   ]
  },
  {
   "cell_type": "code",
   "execution_count": 9,
   "id": "72753f6a-f3d1-44c4-8b37-154e640c955d",
   "metadata": {},
   "outputs": [
    {
     "name": "stdout",
     "output_type": "stream",
     "text": [
      " this is a sample string\n"
     ]
    }
   ],
   "source": [
    "print(my_string[5:])"
   ]
  },
  {
   "cell_type": "markdown",
   "id": "7c9098e4-4d31-43c4-9024-f431c222bb5e",
   "metadata": {},
   "source": [
    "# String Methods"
   ]
  },
  {
   "cell_type": "code",
   "execution_count": 32,
   "id": "e600a6c4-6499-4141-93b1-3a8f35c03659",
   "metadata": {},
   "outputs": [
    {
     "name": "stdout",
     "output_type": "stream",
     "text": [
      "Hello-I-Am-Rupesh-Making-This-Video-For-You\n"
     ]
    }
   ],
   "source": [
    "print(my_string.title())"
   ]
  },
  {
   "cell_type": "code",
   "execution_count": 33,
   "id": "a879542e-5cd2-434a-a6f0-a5e05fb8abe2",
   "metadata": {},
   "outputs": [
    {
     "data": {
      "text/plain": [
       "'HELLO-I-AM-RUPESH-MAKING-THIS-VIDEO-FOR-YOU'"
      ]
     },
     "execution_count": 33,
     "metadata": {},
     "output_type": "execute_result"
    }
   ],
   "source": [
    "my_string.upper()"
   ]
  },
  {
   "cell_type": "code",
   "execution_count": 34,
   "id": "3f542f1b-8f93-4f35-a7e7-3e7e106c7ab3",
   "metadata": {},
   "outputs": [
    {
     "data": {
      "text/plain": [
       "'Hello-i-am-rupesh-making-this-video-for-you'"
      ]
     },
     "execution_count": 34,
     "metadata": {},
     "output_type": "execute_result"
    }
   ],
   "source": [
    "my_string.capitalize()"
   ]
  },
  {
   "cell_type": "code",
   "execution_count": 35,
   "id": "991e7ed1-6a85-40b2-b6e5-52840f2541f9",
   "metadata": {},
   "outputs": [
    {
     "data": {
      "text/plain": [
       "'Hello-I-Am-Rupesh-Making-This-Video-For-You'"
      ]
     },
     "execution_count": 35,
     "metadata": {},
     "output_type": "execute_result"
    }
   ],
   "source": [
    "my_string.title()"
   ]
  },
  {
   "cell_type": "code",
   "execution_count": 36,
   "id": "1cc916f6-a673-4396-af70-7a24c2a24ff6",
   "metadata": {},
   "outputs": [
    {
     "name": "stdout",
     "output_type": "stream",
     "text": [
      "HELLO-I-AM-RUPESH-MAKING-THIS-VIDEO-FOR-YOU\n"
     ]
    }
   ],
   "source": [
    "my_string = my_string.upper()\n",
    "print(my_string)"
   ]
  },
  {
   "cell_type": "code",
   "execution_count": 37,
   "id": "1a20c02f-ddfb-4b9c-bffc-80408df9df52",
   "metadata": {},
   "outputs": [
    {
     "name": "stdout",
     "output_type": "stream",
     "text": [
      "          Hello My Name Is Raja\n"
     ]
    }
   ],
   "source": [
    "my_string = \"          Hello My Name Is Raja\"\n",
    "print(my_string)"
   ]
  },
  {
   "cell_type": "code",
   "execution_count": 38,
   "id": "4ea7856a-4317-45d6-a86f-df73c5f8a305",
   "metadata": {},
   "outputs": [
    {
     "name": "stdout",
     "output_type": "stream",
     "text": [
      "Hello My Name Is Raja\n"
     ]
    }
   ],
   "source": [
    "my_string = my_string.strip()\n",
    "print(my_string)"
   ]
  },
  {
   "cell_type": "code",
   "execution_count": 39,
   "id": "a7807801-a698-49c5-bb39-c8ab984cfe24",
   "metadata": {},
   "outputs": [
    {
     "name": "stdout",
     "output_type": "stream",
     "text": [
      "['Hello', 'My', 'Name', 'Is', 'Raja']\n"
     ]
    }
   ],
   "source": [
    "my_string = my_string.split(' ') #my_string splitted by space\n",
    "print(my_string)"
   ]
  },
  {
   "cell_type": "code",
   "execution_count": 40,
   "id": "326105ea-ac17-485e-ba44-74837b8c7ff2",
   "metadata": {},
   "outputs": [
    {
     "name": "stdout",
     "output_type": "stream",
     "text": [
      "['Hello', 'I', 'am', 'Rupesh', 'making', 'this', 'video', 'for', 'you']\n"
     ]
    }
   ],
   "source": [
    "my_string = 'Hello-I-am-Rupesh-making-this-video-for-you'\n",
    "my_string_words = my_string.split('-')\n",
    "print(my_string_words)"
   ]
  },
  {
   "cell_type": "markdown",
   "id": "2d8e3277-57ba-440b-ac4e-170a64583c45",
   "metadata": {},
   "source": [
    "# Operations On String"
   ]
  },
  {
   "cell_type": "code",
   "execution_count": 60,
   "id": "a0362222-40f9-43ab-94aa-b3be0b5e44e6",
   "metadata": {},
   "outputs": [
    {
     "name": "stdout",
     "output_type": "stream",
     "text": [
      "My name is Rupesh Kumar\n"
     ]
    }
   ],
   "source": [
    "str1 = \"My name is Rupesh \"\n",
    "str2 = \"Kumar\"\n",
    "str3 = str1 + str2 #Concatenation of string\n",
    "print(str3)"
   ]
  },
  {
   "cell_type": "code",
   "execution_count": 73,
   "id": "563aa776-3a6b-4629-8192-0b2f9b6c7573",
   "metadata": {},
   "outputs": [
    {
     "name": "stdout",
     "output_type": "stream",
     "text": [
      "KumarKumarKumarKumarKumarKumarKumarKumarKumarKumar\n"
     ]
    }
   ],
   "source": [
    "print(str2*10)"
   ]
  },
  {
   "cell_type": "markdown",
   "id": "57cddf50-948f-49cb-9356-ed191f0e99e8",
   "metadata": {},
   "source": [
    "# List In Python"
   ]
  },
  {
   "cell_type": "markdown",
   "id": "2612e123-138f-4b6d-9e60-d7b48121833f",
   "metadata": {},
   "source": [
    "1. method  \n",
    "2. comprehension"
   ]
  },
  {
   "cell_type": "code",
   "execution_count": 109,
   "id": "a7ba6edc-e381-4ef6-acb4-f924c105fc76",
   "metadata": {},
   "outputs": [],
   "source": [
    "my_list = [23,45,67.5,\"Parth\",True]"
   ]
  },
  {
   "cell_type": "code",
   "execution_count": 110,
   "id": "74b683b8-14e1-45b1-8556-b72548c8c205",
   "metadata": {},
   "outputs": [
    {
     "name": "stdout",
     "output_type": "stream",
     "text": [
      "[23, 45, 67.5, 'Parth', True]\n"
     ]
    }
   ],
   "source": [
    "print(my_list)"
   ]
  },
  {
   "cell_type": "code",
   "execution_count": 111,
   "id": "acc92536-4f7b-4c02-9935-0aa2749ead3e",
   "metadata": {},
   "outputs": [
    {
     "name": "stdout",
     "output_type": "stream",
     "text": [
      "23\n",
      "45\n"
     ]
    }
   ],
   "source": [
    "for item in my_list:\n",
    "    if(type(item)==int):\n",
    "        print(item)\n",
    "    "
   ]
  },
  {
   "cell_type": "code",
   "execution_count": 112,
   "id": "a0b12d79-4ec2-47c0-963f-dc32ab6ccc47",
   "metadata": {},
   "outputs": [
    {
     "data": {
      "text/plain": [
       "True"
      ]
     },
     "execution_count": 112,
     "metadata": {},
     "output_type": "execute_result"
    }
   ],
   "source": [
    "my_list[-1]"
   ]
  },
  {
   "cell_type": "code",
   "execution_count": 113,
   "id": "852b0a32-0075-448e-9f6c-fdb1cf63c68f",
   "metadata": {},
   "outputs": [
    {
     "data": {
      "text/plain": [
       "['Parth', True]"
      ]
     },
     "execution_count": 113,
     "metadata": {},
     "output_type": "execute_result"
    }
   ],
   "source": [
    "my_list[3:5]  # 3rd and 4th items will print. It will exclude 5th items"
   ]
  },
  {
   "cell_type": "code",
   "execution_count": 114,
   "id": "440afdf2-bb60-41af-9002-800ffb515ced",
   "metadata": {},
   "outputs": [
    {
     "data": {
      "text/plain": [
       "5"
      ]
     },
     "execution_count": 114,
     "metadata": {},
     "output_type": "execute_result"
    }
   ],
   "source": [
    "len(my_list)"
   ]
  },
  {
   "cell_type": "markdown",
   "id": "7662c0bd-59de-48ef-ae8e-432c683b1c9f",
   "metadata": {},
   "source": [
    "# Methods On List"
   ]
  },
  {
   "cell_type": "markdown",
   "id": "9263dbc3-97f7-4463-b8fa-f9c917784bfc",
   "metadata": {},
   "source": [
    "Append\n",
    "\n",
    "insert\n",
    "\n",
    "pop\n",
    "\n",
    "remove\n",
    "\n",
    "reverse\n",
    "\n",
    "sort\n",
    "\n",
    "extend"
   ]
  },
  {
   "cell_type": "code",
   "execution_count": 115,
   "id": "92853321-70c3-4844-ab75-8e0759a3ff77",
   "metadata": {},
   "outputs": [
    {
     "name": "stdout",
     "output_type": "stream",
     "text": [
      "[45, 23, 54, 1, 7, 34, 13]\n"
     ]
    }
   ],
   "source": [
    "my_list = [45,23,54,1,7,34,13]\n",
    "print(my_list)\n"
   ]
  },
  {
   "cell_type": "code",
   "execution_count": 116,
   "id": "4a3f2ff8-3b81-4086-a519-593d03b70276",
   "metadata": {},
   "outputs": [
    {
     "name": "stdout",
     "output_type": "stream",
     "text": [
      "[45, 23, 54, 1, 7, 34, 13, 6]\n"
     ]
    }
   ],
   "source": [
    "my_list.append(6)\n",
    "print(my_list)"
   ]
  },
  {
   "cell_type": "code",
   "execution_count": 117,
   "id": "7d265740-0d79-4ae1-a7a4-f63bb9150d06",
   "metadata": {},
   "outputs": [
    {
     "name": "stdout",
     "output_type": "stream",
     "text": [
      "[45, 23, 17, 54, 1, 7, 34, 13, 6]\n"
     ]
    }
   ],
   "source": [
    "# Insert on particular place in my_list\n",
    "\n",
    "my_list.insert(2,17)  # put 17 on 2nd place \n",
    "print(my_list)"
   ]
  },
  {
   "cell_type": "code",
   "execution_count": 118,
   "id": "be51e31c-2496-4126-8cae-e53f399b6868",
   "metadata": {},
   "outputs": [
    {
     "data": {
      "text/plain": [
       "9"
      ]
     },
     "execution_count": 118,
     "metadata": {},
     "output_type": "execute_result"
    }
   ],
   "source": [
    "len(my_list)"
   ]
  },
  {
   "cell_type": "code",
   "execution_count": 119,
   "id": "9e330d9f-c92a-46a2-9bbf-dd53ae26ed7d",
   "metadata": {},
   "outputs": [
    {
     "name": "stdout",
     "output_type": "stream",
     "text": [
      "6\n"
     ]
    }
   ],
   "source": [
    "d = my_list.pop()\n",
    "print(d)"
   ]
  },
  {
   "cell_type": "code",
   "execution_count": 120,
   "id": "24a85e27-cab2-4578-959d-2456688e6225",
   "metadata": {},
   "outputs": [
    {
     "name": "stdout",
     "output_type": "stream",
     "text": [
      "[45, 23, 17, 54, 1, 7, 34, 13]\n"
     ]
    }
   ],
   "source": [
    "print(my_list)"
   ]
  },
  {
   "cell_type": "code",
   "execution_count": 121,
   "id": "9f675390-4888-428a-8607-3c8aa2968d45",
   "metadata": {},
   "outputs": [
    {
     "name": "stdout",
     "output_type": "stream",
     "text": [
      "17\n"
     ]
    }
   ],
   "source": [
    "d = my_list.pop(2) # element at 2nd place will removed\n",
    "print(d) "
   ]
  },
  {
   "cell_type": "code",
   "execution_count": 135,
   "id": "bc727afd-7067-482a-86de-e53a1e5156d9",
   "metadata": {},
   "outputs": [
    {
     "name": "stdout",
     "output_type": "stream",
     "text": [
      "[1, 7, 13, 23, 34, 45, 54]\n"
     ]
    }
   ],
   "source": [
    "print(my_list)"
   ]
  },
  {
   "cell_type": "code",
   "execution_count": 136,
   "id": "31a6b191-c88c-498d-99ca-723dca0a13c0",
   "metadata": {},
   "outputs": [],
   "source": [
    "my_list.reverse()"
   ]
  },
  {
   "cell_type": "code",
   "execution_count": 137,
   "id": "7782c44d-61d8-4839-b913-f8dcc9eb4e2f",
   "metadata": {},
   "outputs": [
    {
     "name": "stdout",
     "output_type": "stream",
     "text": [
      "[54, 45, 34, 23, 13, 7, 1]\n"
     ]
    }
   ],
   "source": [
    "print(my_list)"
   ]
  },
  {
   "cell_type": "code",
   "execution_count": 138,
   "id": "0f071ce7-6266-42bc-84a5-9f8f53cb0f74",
   "metadata": {},
   "outputs": [],
   "source": [
    "my_list.sort() # return in ascending order"
   ]
  },
  {
   "cell_type": "code",
   "execution_count": 139,
   "id": "12719ef3-6fee-493c-984c-3fa541856ffb",
   "metadata": {},
   "outputs": [
    {
     "name": "stdout",
     "output_type": "stream",
     "text": [
      "[1, 7, 13, 23, 34, 45, 54]\n"
     ]
    }
   ],
   "source": [
    "print(my_list)"
   ]
  },
  {
   "cell_type": "code",
   "execution_count": 140,
   "id": "1ce44eae-1e0b-4021-98ce-072e88602175",
   "metadata": {},
   "outputs": [],
   "source": [
    "my_list.reverse() # Upper is in ascending order then it's reverse will be in descending order"
   ]
  },
  {
   "cell_type": "code",
   "execution_count": 141,
   "id": "da1b6204-cff4-46cc-8234-953b844ef3e9",
   "metadata": {},
   "outputs": [
    {
     "name": "stdout",
     "output_type": "stream",
     "text": [
      "[54, 45, 34, 23, 13, 7, 1]\n"
     ]
    }
   ],
   "source": [
    "print(my_list)"
   ]
  },
  {
   "cell_type": "code",
   "execution_count": 143,
   "id": "3338b3fe-945f-4b40-bfea-d62c3750eb1f",
   "metadata": {},
   "outputs": [],
   "source": [
    "my_list2 = [2,3,5,89]\n",
    "my_list.append(my_list2)"
   ]
  },
  {
   "cell_type": "code",
   "execution_count": 144,
   "id": "d0e9afb2-fcaf-417a-ad0a-1113b80c0883",
   "metadata": {},
   "outputs": [
    {
     "name": "stdout",
     "output_type": "stream",
     "text": [
      "[54, 45, 34, 23, 13, 7, [2, 3, 5, 89]]\n"
     ]
    }
   ],
   "source": [
    "print(my_list)"
   ]
  },
  {
   "cell_type": "code",
   "execution_count": 145,
   "id": "22bd1893-bbec-4e0e-9ba7-4c58c40d5884",
   "metadata": {},
   "outputs": [
    {
     "data": {
      "text/plain": [
       "[2, 3, 5, 89]"
      ]
     },
     "execution_count": 145,
     "metadata": {},
     "output_type": "execute_result"
    }
   ],
   "source": [
    "my_list.pop()"
   ]
  },
  {
   "cell_type": "code",
   "execution_count": 146,
   "id": "89aaed7d-6982-45d3-bd99-fce6539fae96",
   "metadata": {},
   "outputs": [],
   "source": [
    "my_list.extend(my_list2)"
   ]
  },
  {
   "cell_type": "code",
   "execution_count": 147,
   "id": "d90d3ecf-9b91-49a9-ab06-121e9074538a",
   "metadata": {},
   "outputs": [
    {
     "name": "stdout",
     "output_type": "stream",
     "text": [
      "[54, 45, 34, 23, 13, 7, 2, 3, 5, 89]\n"
     ]
    }
   ],
   "source": [
    "print(my_list)"
   ]
  },
  {
   "cell_type": "markdown",
   "id": "6477645c-f474-4585-b074-ab79f7c1a4af",
   "metadata": {},
   "source": [
    "# List Comprehension"
   ]
  },
  {
   "cell_type": "code",
   "execution_count": 148,
   "id": "559b074f-7489-4a26-9bb6-a0aa1a4b0b9c",
   "metadata": {},
   "outputs": [],
   "source": [
    "list_1 = [1,2,3,4,5,6,7,8,9]"
   ]
  },
  {
   "cell_type": "code",
   "execution_count": 149,
   "id": "0f519d5b-3c64-4c81-80ec-8695629e536e",
   "metadata": {},
   "outputs": [],
   "source": [
    "list_2 = []\n",
    "for ele in list_1:\n",
    "    list_2.append(ele**2)"
   ]
  },
  {
   "cell_type": "code",
   "execution_count": 150,
   "id": "027f409f-3558-409d-97d2-51005d00fa62",
   "metadata": {},
   "outputs": [
    {
     "name": "stdout",
     "output_type": "stream",
     "text": [
      "[1, 4, 9, 16, 25, 36, 49, 64, 81]\n"
     ]
    }
   ],
   "source": [
    "print(list_2)"
   ]
  },
  {
   "cell_type": "code",
   "execution_count": null,
   "id": "8bb384a4-4426-40f2-8d31-1d3025d30632",
   "metadata": {},
   "outputs": [],
   "source": [
    "l"
   ]
  }
 ],
 "metadata": {
  "kernelspec": {
   "display_name": "Python 3 (ipykernel)",
   "language": "python",
   "name": "python3"
  },
  "language_info": {
   "codemirror_mode": {
    "name": "ipython",
    "version": 3
   },
   "file_extension": ".py",
   "mimetype": "text/x-python",
   "name": "python",
   "nbconvert_exporter": "python",
   "pygments_lexer": "ipython3",
   "version": "3.11.7"
  }
 },
 "nbformat": 4,
 "nbformat_minor": 5
}
