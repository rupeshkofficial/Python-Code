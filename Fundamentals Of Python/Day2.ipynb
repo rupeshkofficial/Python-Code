{
 "cells": [
  {
   "cell_type": "code",
   "execution_count": 3,
   "id": "581c67ad-cd6e-4cd8-a6a1-76eb89cbde84",
   "metadata": {},
   "outputs": [
    {
     "name": "stdout",
     "output_type": "stream",
     "text": [
      "23\n",
      "This is python cell block\n",
      "Hello my age is 23\n"
     ]
    }
   ],
   "source": [
    "print(23)\n",
    "print(\"This is python cell block\")\n",
    "print(\"Hello my age is\", 23)"
   ]
  },
  {
   "cell_type": "markdown",
   "id": "4af9d93c-fc14-4800-8e18-bebc102102f6",
   "metadata": {},
   "source": [
    "#Variables & Identifiers"
   ]
  },
  {
   "cell_type": "code",
   "execution_count": 10,
   "id": "432a6cdc-401b-4bd1-845d-cd94e8b68cbb",
   "metadata": {},
   "outputs": [
    {
     "name": "stdout",
     "output_type": "stream",
     "text": [
      "Rajesh 26 ASE\n"
     ]
    }
   ],
   "source": [
    "age = 26\n",
    "name = \"Rajesh\"\n",
    "role= \"ASE\"\n",
    "\n",
    "print(name, age, role)"
   ]
  },
  {
   "cell_type": "markdown",
   "id": "688767cb-994e-417b-9e57-c9ea9b0d9f45",
   "metadata": {},
   "source": [
    "#Data Types\n",
    "\n",
    "int, float, string, Boolean, None"
   ]
  },
  {
   "cell_type": "code",
   "execution_count": 13,
   "id": "46ecfe94-1056-45aa-afe8-b15eb21d463b",
   "metadata": {},
   "outputs": [
    {
     "name": "stdout",
     "output_type": "stream",
     "text": [
      "10\n",
      "<class 'int'>\n",
      "Raju\n",
      "<class 'str'>\n"
     ]
    }
   ],
   "source": [
    "#int\n",
    "#str\n",
    "x = 10\n",
    "y = \"Raju\"\n",
    "print(x)\n",
    "print(type(x))\n",
    "print(y)\n",
    "print(type(y))"
   ]
  },
  {
   "cell_type": "code",
   "execution_count": 14,
   "id": "48582d6f-138e-49c1-8d84-e1f278e02128",
   "metadata": {},
   "outputs": [
    {
     "name": "stdout",
     "output_type": "stream",
     "text": [
      "9.5\n",
      "<class 'float'>\n"
     ]
    }
   ],
   "source": [
    "x = 9.5\n",
    "print(x)\n",
    "print(type(x))\n"
   ]
  },
  {
   "cell_type": "code",
   "execution_count": 15,
   "id": "1134ccb0-63a9-47ff-890a-cf551459e0e9",
   "metadata": {},
   "outputs": [
    {
     "name": "stdout",
     "output_type": "stream",
     "text": [
      "True\n",
      "<class 'bool'>\n"
     ]
    }
   ],
   "source": [
    "x = True\n",
    "print(x)\n",
    "print(type(x))"
   ]
  },
  {
   "cell_type": "code",
   "execution_count": 16,
   "id": "fd45ca9d-0869-4b70-ad6e-c0d66e618045",
   "metadata": {},
   "outputs": [
    {
     "name": "stdout",
     "output_type": "stream",
     "text": [
      "None\n",
      "<class 'NoneType'>\n"
     ]
    }
   ],
   "source": [
    "x = None\n",
    "print(x)\n",
    "print(type(x))"
   ]
  },
  {
   "cell_type": "markdown",
   "id": "46a12c9c-8a61-4ac6-8079-1e4a925e8e4b",
   "metadata": {},
   "source": [
    "#How To Take Input\n"
   ]
  },
  {
   "cell_type": "code",
   "execution_count": 17,
   "id": "292502c4-17e3-4b13-86a1-69cdb9de5752",
   "metadata": {},
   "outputs": [
    {
     "name": "stdin",
     "output_type": "stream",
     "text": [
      "Enter Your Name Rupesh\n"
     ]
    },
    {
     "name": "stdout",
     "output_type": "stream",
     "text": [
      "Rupesh\n"
     ]
    }
   ],
   "source": [
    "x = input(\"Enter Your Name\")\n",
    "print(x)"
   ]
  },
  {
   "cell_type": "code",
   "execution_count": 18,
   "id": "e8ef208b-03b6-425a-97d3-6d5844098566",
   "metadata": {},
   "outputs": [
    {
     "name": "stdin",
     "output_type": "stream",
     "text": [
      "Enter Your Name Rajesh\n"
     ]
    }
   ],
   "source": [
    "name = input(\"Enter Your Name\")"
   ]
  },
  {
   "cell_type": "code",
   "execution_count": 19,
   "id": "37a50f0f-64e8-481d-828d-0238800607b4",
   "metadata": {},
   "outputs": [
    {
     "name": "stdout",
     "output_type": "stream",
     "text": [
      "Rajesh\n"
     ]
    }
   ],
   "source": [
    "print(name)"
   ]
  },
  {
   "cell_type": "code",
   "execution_count": 21,
   "id": "efac7836-9611-4d13-b964-d4be623f501a",
   "metadata": {},
   "outputs": [
    {
     "name": "stdin",
     "output_type": "stream",
     "text": [
      "Enter Your Age: 23\n"
     ]
    },
    {
     "name": "stdout",
     "output_type": "stream",
     "text": [
      "23\n",
      "<class 'str'>\n"
     ]
    }
   ],
   "source": [
    "age = input(\"Enter Your Age:\")\n",
    "print(age)\n",
    "print(type(age))\n"
   ]
  },
  {
   "cell_type": "markdown",
   "id": "4df47709-d2eb-4d5a-a5c7-19f155eb9921",
   "metadata": {},
   "source": [
    "#Type Casting Variable"
   ]
  },
  {
   "cell_type": "code",
   "execution_count": 25,
   "id": "c96687b4-73c4-41d9-9d14-1ea1d3cf0483",
   "metadata": {},
   "outputs": [
    {
     "name": "stdin",
     "output_type": "stream",
     "text": [
      "Enter Your Age: 12\n",
      "Enter Your Age1: 23\n"
     ]
    },
    {
     "name": "stdout",
     "output_type": "stream",
     "text": [
      "12\n",
      "<class 'int'>\n",
      "23.0\n",
      "<class 'float'>\n"
     ]
    }
   ],
   "source": [
    "age = int(input(\"Enter Your Age:\"))\n",
    "age1 = float(input(\"Enter Your Age1:\"))\n",
    "print(age)\n",
    "print(type(age))\n",
    "print(age1)\n",
    "print(type(age1))"
   ]
  },
  {
   "cell_type": "code",
   "execution_count": 26,
   "id": "f8a7a039-812f-4c18-9c1f-f3f0ceb2fa22",
   "metadata": {},
   "outputs": [
    {
     "name": "stdin",
     "output_type": "stream",
     "text": [
      "Enter Your Age: 12\n",
      "Enter Your Age1: 23\n"
     ]
    },
    {
     "name": "stdout",
     "output_type": "stream",
     "text": [
      "True\n",
      "<class 'bool'>\n",
      "23.0\n",
      "<class 'float'>\n"
     ]
    }
   ],
   "source": [
    "age = bool(input(\"Enter Your Age:\"))\n",
    "age1 = float(input(\"Enter Your Age1:\"))\n",
    "print(age)\n",
    "print(type(age))\n",
    "print(age1)\n",
    "print(type(age1))"
   ]
  },
  {
   "cell_type": "markdown",
   "id": "b4c7b91e-25c6-4f7d-b5ce-3f1b609c2386",
   "metadata": {},
   "source": [
    "#Output Formatting"
   ]
  },
  {
   "cell_type": "code",
   "execution_count": 27,
   "id": "8093dc71-f7f5-4f10-8980-ed62f27ae456",
   "metadata": {},
   "outputs": [],
   "source": [
    "name = \"Rupesh\"\n",
    "age = 23\n",
    "owner = 'Rupesh Tech'\n"
   ]
  },
  {
   "cell_type": "code",
   "execution_count": 30,
   "id": "25259eb2-a07a-467b-956d-04a71f582287",
   "metadata": {},
   "outputs": [
    {
     "name": "stdout",
     "output_type": "stream",
     "text": [
      "My name is Rupesh and my age is 23. I am the owner of Rupesh Tech\n"
     ]
    }
   ],
   "source": [
    "print('My name is {} and my age is {}. I am the owner of {}'.format(name,age,owner))"
   ]
  },
  {
   "cell_type": "code",
   "execution_count": null,
   "id": "b70a83b9-504f-4894-ba41-88c0ea43ec7e",
   "metadata": {},
   "outputs": [],
   "source": []
  }
 ],
 "metadata": {
  "kernelspec": {
   "display_name": "Python 3 (ipykernel)",
   "language": "python",
   "name": "python3"
  },
  "language_info": {
   "codemirror_mode": {
    "name": "ipython",
    "version": 3
   },
   "file_extension": ".py",
   "mimetype": "text/x-python",
   "name": "python",
   "nbconvert_exporter": "python",
   "pygments_lexer": "ipython3",
   "version": "3.11.7"
  }
 },
 "nbformat": 4,
 "nbformat_minor": 5
}
