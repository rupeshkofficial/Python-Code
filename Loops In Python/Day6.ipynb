{
 "cells": [
  {
   "cell_type": "markdown",
   "id": "5345936c-545a-4067-ae8d-f099339807db",
   "metadata": {},
   "source": [
    "#Loops in Python\n",
    "\n",
    "#while loop\n",
    "\n",
    "#for loop"
   ]
  },
  {
   "cell_type": "markdown",
   "id": "eb3cf090-4a30-4300-a1c9-f4e59d829342",
   "metadata": {},
   "source": [
    "#while loop"
   ]
  },
  {
   "cell_type": "code",
   "execution_count": 2,
   "id": "74057115-d453-4b35-be5e-a3d2733b8808",
   "metadata": {},
   "outputs": [
    {
     "name": "stdout",
     "output_type": "stream",
     "text": [
      "1\n",
      "2\n",
      "3\n",
      "4\n",
      "5\n",
      "6\n",
      "7\n",
      "8\n",
      "9\n",
      "10\n"
     ]
    }
   ],
   "source": [
    "print(1)\n",
    "print(2)\n",
    "print(3)\n",
    "print(4)\n",
    "print(5)\n",
    "print(6)\n",
    "print(7)\n",
    "print(8)\n",
    "print(9)\n",
    "print(10)"
   ]
  },
  {
   "cell_type": "code",
   "execution_count": 6,
   "id": "04f39f95-5056-4050-9e8d-69d1410cd16b",
   "metadata": {},
   "outputs": [
    {
     "name": "stdout",
     "output_type": "stream",
     "text": [
      "1\n",
      "2\n",
      "3\n",
      "4\n",
      "5\n",
      "6\n",
      "7\n",
      "8\n",
      "9\n",
      "10\n",
      "11\n",
      "12\n",
      "13\n",
      "14\n",
      "15\n",
      "16\n",
      "17\n",
      "18\n",
      "19\n",
      "20\n",
      "Number from 1 to 20 are printed\n"
     ]
    }
   ],
   "source": [
    "#Printing number 1 to 20\n",
    "\n",
    "i = 1\n",
    "while i <= 20:\n",
    "    print(i)\n",
    "    i+=1\n",
    "print(\"Number from 1 to 20 are printed\")"
   ]
  },
  {
   "cell_type": "code",
   "execution_count": 7,
   "id": "2de0d8ce-6eff-4342-900e-0db04b88003b",
   "metadata": {},
   "outputs": [
    {
     "name": "stdout",
     "output_type": "stream",
     "text": [
      "2\n",
      "4\n",
      "6\n",
      "8\n",
      "10\n",
      "12\n",
      "14\n",
      "16\n",
      "18\n",
      "20\n",
      "Task Done\n"
     ]
    }
   ],
   "source": [
    "#print even number from 1 to 20\n",
    "\n",
    "i = 1\n",
    "while i <= 21:\n",
    "    if i%2 == 0:\n",
    "        print(i)\n",
    "    else:\n",
    "        pass\n",
    "    i+=1\n",
    "print(\"Task Done\")"
   ]
  },
  {
   "cell_type": "markdown",
   "id": "3a57da8d-ea73-4965-8438-bdf2abb905ae",
   "metadata": {},
   "source": [
    "#for loop"
   ]
  },
  {
   "cell_type": "code",
   "execution_count": 8,
   "id": "8dd6c41d-3686-4fff-b7c8-a50f14b6283b",
   "metadata": {},
   "outputs": [
    {
     "name": "stdout",
     "output_type": "stream",
     "text": [
      "1\n",
      "2\n",
      "3\n",
      "4\n",
      "5\n",
      "6\n",
      "7\n",
      "8\n",
      "9\n",
      "10\n"
     ]
    }
   ],
   "source": [
    "for i in range(1,11):\n",
    "    print(i)"
   ]
  },
  {
   "cell_type": "code",
   "execution_count": 9,
   "id": "084ce614-9afe-4c00-a2df-82ce3e473cf2",
   "metadata": {},
   "outputs": [
    {
     "name": "stdout",
     "output_type": "stream",
     "text": [
      "2\n",
      "4\n",
      "6\n",
      "8\n",
      "10\n",
      "12\n",
      "14\n",
      "16\n",
      "18\n",
      "20\n"
     ]
    }
   ],
   "source": [
    "for i in range(1,21):\n",
    "    if i%2 == 0:\n",
    "        print(i)\n",
    "    else:\n",
    "        pass"
   ]
  },
  {
   "cell_type": "markdown",
   "id": "b51d0b7d-ebe1-4ccb-aa6f-70992a4db45d",
   "metadata": {},
   "source": [
    "#Break Continue"
   ]
  },
  {
   "cell_type": "code",
   "execution_count": 10,
   "id": "f4415490-9d9b-42e9-979c-26b08512f5b4",
   "metadata": {},
   "outputs": [
    {
     "name": "stdout",
     "output_type": "stream",
     "text": [
      "1\n",
      "2\n",
      "3\n",
      "4\n",
      "5\n",
      "6\n",
      "8\n",
      "9\n",
      "10\n",
      "11\n",
      "12\n",
      "13\n",
      "14\n",
      "15\n",
      "16\n",
      "17\n",
      "18\n",
      "19\n",
      "20\n"
     ]
    }
   ],
   "source": [
    "for i in range(1,21):\n",
    "    if i==7:\n",
    "        pass\n",
    "    else:\n",
    "        print(i)"
   ]
  },
  {
   "cell_type": "code",
   "execution_count": 12,
   "id": "fc4711b1-92d3-4e2a-9924-211b21ccd5ab",
   "metadata": {},
   "outputs": [
    {
     "name": "stdout",
     "output_type": "stream",
     "text": [
      "1\n",
      "2\n",
      "3\n",
      "4\n",
      "5\n",
      "6\n",
      "8\n",
      "9\n",
      "10\n",
      "11\n",
      "12\n",
      "13\n",
      "14\n",
      "15\n",
      "16\n",
      "17\n",
      "18\n",
      "19\n",
      "20\n"
     ]
    }
   ],
   "source": [
    "for i in range(1,21):\n",
    "    if i ==7:\n",
    "        continue\n",
    "    print(i)"
   ]
  },
  {
   "cell_type": "code",
   "execution_count": 13,
   "id": "596751f1-b31b-4ab7-b090-e89134483954",
   "metadata": {},
   "outputs": [
    {
     "name": "stdout",
     "output_type": "stream",
     "text": [
      "1\n",
      "2\n",
      "3\n",
      "4\n",
      "5\n",
      "6\n",
      "8\n",
      "9\n",
      "10\n",
      "11\n",
      "12\n",
      "13\n",
      "14\n",
      "15\n",
      "16\n",
      "17\n",
      "18\n",
      "19\n",
      "20\n"
     ]
    }
   ],
   "source": [
    "i = 1\n",
    "while i <= 20:\n",
    "    if i == 7:\n",
    "        i += 1\n",
    "        continue\n",
    "    print(i)\n",
    "    i+=1"
   ]
  },
  {
   "cell_type": "code",
   "execution_count": 2,
   "id": "9cb45b22-f571-435e-9c80-b4f0ca2eb1f1",
   "metadata": {},
   "outputs": [
    {
     "name": "stdout",
     "output_type": "stream",
     "text": [
      "20\n",
      "45\n"
     ]
    }
   ],
   "source": [
    "a = [20, 45, 7,5,35,46,80,234,68,24]\n",
    "\n",
    "for i in a:\n",
    "    if i%7==0:\n",
    "        break\n",
    "    print(i)"
   ]
  },
  {
   "cell_type": "code",
   "execution_count": 5,
   "id": "1bf5b194-4737-4f23-9e92-3c0ab4d8dd5a",
   "metadata": {},
   "outputs": [
    {
     "name": "stdin",
     "output_type": "stream",
     "text": [
      "Enter a number 22\n"
     ]
    },
    {
     "name": "stdout",
     "output_type": "stream",
     "text": [
      "Number is not Prime\n"
     ]
    }
   ],
   "source": [
    "# check if the number is prime or not\n",
    "\n",
    "number = int(input(\"Enter a number\"))\n",
    "\n",
    "i = 2\n",
    "isPrime = True\n",
    "while i < number:\n",
    "    if number%i==0:\n",
    "        print(\"Number is not Prime\")\n",
    "        isPrime = False\n",
    "        break\n",
    "    i+=1\n",
    "if isPrime:\n",
    "    print(\"Number is Prime\")\n",
    "    "
   ]
  },
  {
   "cell_type": "markdown",
   "id": "604a2ab8-a535-4922-95e6-820ab18fd2f5",
   "metadata": {},
   "source": [
    "# Find the factorial of a number less than 20"
   ]
  },
  {
   "cell_type": "markdown",
   "id": "cb25bab5-a67c-4c70-a380-be6850da38cb",
   "metadata": {},
   "source": [
    " 3! = 3 * 2 * 1 = 6\n",
    " \n",
    " 1! = 1\n",
    " \n",
    " 0! = 1\n"
   ]
  },
  {
   "cell_type": "code",
   "execution_count": 10,
   "id": "2d31c09b-9b75-491b-b5e0-6caa8ef3e6b5",
   "metadata": {},
   "outputs": [
    {
     "name": "stdin",
     "output_type": "stream",
     "text": [
      "Enter a number to calculate factorial 5\n"
     ]
    },
    {
     "name": "stdout",
     "output_type": "stream",
     "text": [
      "120\n"
     ]
    }
   ],
   "source": [
    "number = int(input(\"Enter a number to calculate factorial\"))\n",
    "ans = 1\n",
    "for i in range(1,number+1):\n",
    "    ans*=i\n",
    "print(ans)"
   ]
  },
  {
   "cell_type": "code",
   "execution_count": null,
   "id": "f0f771c0-61f2-4353-ae1e-23a1d8ced0d5",
   "metadata": {},
   "outputs": [],
   "source": []
  }
 ],
 "metadata": {
  "kernelspec": {
   "display_name": "Python 3 (ipykernel)",
   "language": "python",
   "name": "python3"
  },
  "language_info": {
   "codemirror_mode": {
    "name": "ipython",
    "version": 3
   },
   "file_extension": ".py",
   "mimetype": "text/x-python",
   "name": "python",
   "nbconvert_exporter": "python",
   "pygments_lexer": "ipython3",
   "version": "3.11.7"
  }
 },
 "nbformat": 4,
 "nbformat_minor": 5
}
