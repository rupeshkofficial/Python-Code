{
 "cells": [
  {
   "cell_type": "markdown",
   "id": "e5beec43-c3f1-4bbf-a331-6138d94c4605",
   "metadata": {},
   "source": [
    "# Class (Object Oriented Programming)\n",
    "\n",
    "1. Creating employee class\n",
    "2. repr  --> Representation function\n",
    "3. roles of employee inheritance class\n",
    "4. managers, employess list under him, number of employee under him"
   ]
  },
  {
   "cell_type": "code",
   "execution_count": 122,
   "id": "f3a76bce-ee47-4a03-ac54-b8c0aeb2c513",
   "metadata": {},
   "outputs": [],
   "source": [
    "class Employee:\n",
    "\n",
    "    def __init__(self, name,age):   #constructor\n",
    "        self.name = name\n",
    "        self.age = age\n",
    "        \n",
    "    def introduce(self):           #Instance Method\n",
    "        print(f'hello,Good Morning. My name is {self.name}, and I am {self.age} years old')\n",
    "        \n",
    "    def __repr__(self):\n",
    "\n",
    "        return f'name = {self.name}, age = {self.age}'\n",
    "\n",
    "        "
   ]
  },
  {
   "cell_type": "code",
   "execution_count": 123,
   "id": "88cc6868-004f-4fb3-aaf1-27bf5ff3054b",
   "metadata": {},
   "outputs": [
    {
     "name": "stdout",
     "output_type": "stream",
     "text": [
      "Rupesh 26\n"
     ]
    }
   ],
   "source": [
    "e1 = Employee('Rupesh',26)    #Object Creation of Employee class\n",
    "print(e1.name,e1.age)"
   ]
  },
  {
   "cell_type": "code",
   "execution_count": 124,
   "id": "89f46bd5-be4b-43aa-b709-351e517bf107",
   "metadata": {},
   "outputs": [
    {
     "name": "stdout",
     "output_type": "stream",
     "text": [
      "hello,Good Morning. My name is Rupesh, and I am 26 years old\n"
     ]
    }
   ],
   "source": [
    "e1.introduce()"
   ]
  },
  {
   "cell_type": "code",
   "execution_count": 125,
   "id": "01b985e9-bac8-4392-a96a-aa951b5083e0",
   "metadata": {},
   "outputs": [
    {
     "name": "stdout",
     "output_type": "stream",
     "text": [
      "hello,Good Morning. My name is Priyanshu, and I am 23 years old\n"
     ]
    }
   ],
   "source": [
    "e2 = Employee('Priyanshu',23)\n",
    "e2.introduce()"
   ]
  },
  {
   "cell_type": "code",
   "execution_count": 126,
   "id": "60a62986-41ec-4ed2-861a-c37e11ba35d3",
   "metadata": {},
   "outputs": [
    {
     "name": "stdout",
     "output_type": "stream",
     "text": [
      "name = Priyanshu, age = 23\n"
     ]
    }
   ],
   "source": [
    "print(e2)"
   ]
  },
  {
   "cell_type": "markdown",
   "id": "e2bc7229-1748-4010-ac57-dafea01a45fd",
   "metadata": {},
   "source": [
    "#Creating id for Employee"
   ]
  },
  {
   "cell_type": "code",
   "execution_count": 127,
   "id": "cb1fe242-a3f1-471d-ae35-6caad5c1a570",
   "metadata": {},
   "outputs": [],
   "source": [
    "class Employee:\n",
    "    number_of_employee =0\n",
    "    idseq = 100\n",
    "    employee_database = []\n",
    "\n",
    "    def __init__(self, name,age, is_working = True):   #constructor\n",
    "        self.name = name\n",
    "        self.age = age\n",
    "        self.id = Employee.idseq\n",
    "        self.is_working = is_working\n",
    "        Employee.idseq+=1\n",
    "        Employee.number_of_employee+=1\n",
    "        Employee. employee_database.append(self)\n",
    "        \n",
    "    def introduce(self):           #Instance Method\n",
    "        print(f'hello,Good Morning. My name is {self.name}, and I am {self.age} years old. My Id is {self.id}')\n",
    "\n",
    "    def fire(self):\n",
    "        if(self.is_working == True):\n",
    "           self.is_working = False\n",
    "           Employee.number_of_employee -= 1\n",
    "        else:\n",
    "            print('This employee is already fired')\n",
    "   \n",
    "    def __repr__(self):\n",
    "\n",
    "        return f'(name = {self.name}, age = {self.age})'\n",
    "\n",
    "        "
   ]
  },
  {
   "cell_type": "code",
   "execution_count": 128,
   "id": "60e52831-9d4f-4c2f-a21c-5357a1c89f55",
   "metadata": {},
   "outputs": [],
   "source": [
    "e1 = Employee('Aadarsh',60)"
   ]
  },
  {
   "cell_type": "code",
   "execution_count": 129,
   "id": "c925a472-fdf2-426e-9f9f-4ff9d87a8d2b",
   "metadata": {},
   "outputs": [
    {
     "name": "stdout",
     "output_type": "stream",
     "text": [
      "hello,Good Morning. My name is Aadarsh, and I am 60 years old. My Id is 100\n"
     ]
    }
   ],
   "source": [
    "e1.introduce()"
   ]
  },
  {
   "cell_type": "code",
   "execution_count": 130,
   "id": "05386470-417b-465f-916d-a77edcf5b7ad",
   "metadata": {},
   "outputs": [],
   "source": [
    "e2 = Employee('Ramesh',100)"
   ]
  },
  {
   "cell_type": "code",
   "execution_count": 131,
   "id": "7144ec55-3247-4a75-9ce8-d2c1c254896e",
   "metadata": {},
   "outputs": [
    {
     "name": "stdout",
     "output_type": "stream",
     "text": [
      "hello,Good Morning. My name is Ramesh, and I am 100 years old. My Id is 101\n"
     ]
    }
   ],
   "source": [
    "e2.introduce()"
   ]
  },
  {
   "cell_type": "code",
   "execution_count": 132,
   "id": "e0a8a089-4a25-49df-b4b1-23b8de8e8885",
   "metadata": {},
   "outputs": [
    {
     "data": {
      "text/plain": [
       "2"
      ]
     },
     "execution_count": 132,
     "metadata": {},
     "output_type": "execute_result"
    }
   ],
   "source": [
    "Employee.number_of_employee"
   ]
  },
  {
   "cell_type": "code",
   "execution_count": 133,
   "id": "c5474971-bf5f-4941-a2a8-0e63a9f2f28d",
   "metadata": {},
   "outputs": [
    {
     "data": {
      "text/plain": [
       "[(name = Aadarsh, age = 60), (name = Ramesh, age = 100)]"
      ]
     },
     "execution_count": 133,
     "metadata": {},
     "output_type": "execute_result"
    }
   ],
   "source": [
    "Employee.employee_database"
   ]
  },
  {
   "cell_type": "code",
   "execution_count": 134,
   "id": "47d5f40e-79aa-482b-a32c-2b4f5f359ae5",
   "metadata": {},
   "outputs": [],
   "source": [
    "e1.fire()"
   ]
  },
  {
   "cell_type": "code",
   "execution_count": 135,
   "id": "0e8cbd1d-9f11-4a42-a143-eb4a930a5c9f",
   "metadata": {},
   "outputs": [
    {
     "data": {
      "text/plain": [
       "1"
      ]
     },
     "execution_count": 135,
     "metadata": {},
     "output_type": "execute_result"
    }
   ],
   "source": [
    "Employee.number_of_employee"
   ]
  },
  {
   "cell_type": "code",
   "execution_count": 136,
   "id": "c95b5e76-0563-4a49-99ab-458eb8407006",
   "metadata": {},
   "outputs": [
    {
     "data": {
      "text/plain": [
       "0"
      ]
     },
     "execution_count": 136,
     "metadata": {},
     "output_type": "execute_result"
    }
   ],
   "source": [
    "e2.fire()\n",
    "Employee.number_of_employee"
   ]
  },
  {
   "cell_type": "code",
   "execution_count": 137,
   "id": "0d38891b-a003-4c90-ae48-08f5e24cd3b0",
   "metadata": {},
   "outputs": [
    {
     "name": "stdout",
     "output_type": "stream",
     "text": [
      "This employee is already fired\n"
     ]
    }
   ],
   "source": [
    "e1.fire()\n"
   ]
  },
  {
   "cell_type": "markdown",
   "id": "6b17b858-4469-477d-afa3-d3e203e40134",
   "metadata": {},
   "source": [
    "# Inherit Employee Class"
   ]
  },
  {
   "cell_type": "code",
   "execution_count": 138,
   "id": "60c12f56-6c20-4702-bd0c-fa968d91f623",
   "metadata": {},
   "outputs": [],
   "source": [
    "class Manager(Employee):\n",
    "    def __init__(self,name,age):\n",
    "        super().__init__(name,age)\n",
    "        self.role = 'Manager'\n",
    "    \n",
    "    def fire_emp(self,emp):\n",
    "        if(emp.is_working):\n",
    "            print(f'{self.name} has fired {emp.name}')\n",
    "            emp.fire()\n",
    "        else:\n",
    "            print('Cannot fire, already fired')"
   ]
  },
  {
   "cell_type": "code",
   "execution_count": 139,
   "id": "65726161-e687-425b-9cc5-b3fb300b7f7e",
   "metadata": {},
   "outputs": [],
   "source": [
    "m1 = Manager('Rupesh', 25)"
   ]
  },
  {
   "cell_type": "code",
   "execution_count": 140,
   "id": "64fd785f-0a63-4db9-bf31-4aae6bc48a72",
   "metadata": {},
   "outputs": [
    {
     "name": "stdout",
     "output_type": "stream",
     "text": [
      "(name = Rupesh, age = 25)\n"
     ]
    }
   ],
   "source": [
    "print(m1)"
   ]
  },
  {
   "cell_type": "code",
   "execution_count": 141,
   "id": "74cbc4e2-5e9e-45a5-94b1-f52e1a0eea11",
   "metadata": {},
   "outputs": [
    {
     "data": {
      "text/plain": [
       "'Manager'"
      ]
     },
     "execution_count": 141,
     "metadata": {},
     "output_type": "execute_result"
    }
   ],
   "source": [
    "m1.role"
   ]
  },
  {
   "cell_type": "code",
   "execution_count": 142,
   "id": "b758d2c8-0e75-4565-938d-a6853542779f",
   "metadata": {},
   "outputs": [
    {
     "data": {
      "text/plain": [
       "1"
      ]
     },
     "execution_count": 142,
     "metadata": {},
     "output_type": "execute_result"
    }
   ],
   "source": [
    "Employee.number_of_employee"
   ]
  },
  {
   "cell_type": "code",
   "execution_count": 143,
   "id": "c97d10f2-d900-48bb-a583-ee7b3dd44065",
   "metadata": {},
   "outputs": [],
   "source": [
    "e1 = Employee('chetna', 23)\n",
    "e2 = Employee('chetan', 25)\n",
    "e3 = Employee('chetak', 28)"
   ]
  },
  {
   "cell_type": "code",
   "execution_count": 144,
   "id": "aeaf8266-1a09-4619-9981-5a904e14669b",
   "metadata": {},
   "outputs": [
    {
     "data": {
      "text/plain": [
       "4"
      ]
     },
     "execution_count": 144,
     "metadata": {},
     "output_type": "execute_result"
    }
   ],
   "source": [
    "Employee.number_of_employee"
   ]
  },
  {
   "cell_type": "code",
   "execution_count": 146,
   "id": "865644cf-c0e6-41f5-94a1-adb69fa204e7",
   "metadata": {},
   "outputs": [
    {
     "name": "stdout",
     "output_type": "stream",
     "text": [
      "Rupesh has fired chetna\n"
     ]
    }
   ],
   "source": [
    "m1.fire_emp(e1)"
   ]
  },
  {
   "cell_type": "code",
   "execution_count": 147,
   "id": "9cf55747-f0b5-4165-8682-936f27526999",
   "metadata": {},
   "outputs": [
    {
     "data": {
      "text/plain": [
       "False"
      ]
     },
     "execution_count": 147,
     "metadata": {},
     "output_type": "execute_result"
    }
   ],
   "source": [
    "e1.is_working"
   ]
  },
  {
   "cell_type": "code",
   "execution_count": null,
   "id": "09780dff-1e8b-4a8d-8724-9883f90d3536",
   "metadata": {},
   "outputs": [],
   "source": []
  }
 ],
 "metadata": {
  "kernelspec": {
   "display_name": "Python 3 (ipykernel)",
   "language": "python",
   "name": "python3"
  },
  "language_info": {
   "codemirror_mode": {
    "name": "ipython",
    "version": 3
   },
   "file_extension": ".py",
   "mimetype": "text/x-python",
   "name": "python",
   "nbconvert_exporter": "python",
   "pygments_lexer": "ipython3",
   "version": "3.11.7"
  }
 },
 "nbformat": 4,
 "nbformat_minor": 5
}
