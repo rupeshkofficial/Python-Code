{
 "cells": [
  {
   "cell_type": "markdown",
   "id": "f789c0c1-7978-41b6-83a2-2e3607116b8e",
   "metadata": {},
   "source": [
    "# Quantile"
   ]
  },
  {
   "cell_type": "code",
   "execution_count": 7,
   "id": "f498d142-91af-45b4-97a7-765a9e049802",
   "metadata": {},
   "outputs": [
    {
     "ename": "SyntaxError",
     "evalue": "closing parenthesis ')' does not match opening parenthesis '{' (3015210138.py, line 2)",
     "output_type": "error",
     "traceback": [
      "\u001b[1;36m  Cell \u001b[1;32mIn[7], line 2\u001b[1;36m\u001b[0m\n\u001b[1;33m    df = pd.DataFram({[1,5,3,4,2][3,2,4,3,4],[2, 2, 7, 3, 4],[4, 3, 6, 12, 7])\u001b[0m\n\u001b[1;37m                                                                             ^\u001b[0m\n\u001b[1;31mSyntaxError\u001b[0m\u001b[1;31m:\u001b[0m closing parenthesis ')' does not match opening parenthesis '{'\n"
     ]
    }
   ],
   "source": [
    "import pandas as pd \r",
    "da{[1,5,3,4,2][3,2,4,3,4],[2, 2, 7, 3, 4],[4, 3, 6, 12, 7]) \r\n"
   ]
  },
  {
   "cell_type": "code",
   "execution_count": null,
   "id": "f4281f8d-7221-4f3e-bd9b-a4e9d13ae38b",
   "metadata": {},
   "outputs": [],
   "source": []
  }
 ],
 "metadata": {
  "kernelspec": {
   "display_name": "Python 3 (ipykernel)",
   "language": "python",
   "name": "python3"
  },
  "language_info": {
   "codemirror_mode": {
    "name": "ipython",
    "version": 3
   },
   "file_extension": ".py",
   "mimetype": "text/x-python",
   "name": "python",
   "nbconvert_exporter": "python",
   "pygments_lexer": "ipython3",
   "version": "3.11.7"
  }
 },
 "nbformat": 4,
 "nbformat_minor": 5
}
