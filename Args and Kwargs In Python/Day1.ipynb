{
 "cells": [
  {
   "cell_type": "code",
   "execution_count": 3,
   "id": "0431fe55-00cf-4cc8-95aa-5ab22957f052",
   "metadata": {},
   "outputs": [
    {
     "name": "stdout",
     "output_type": "stream",
     "text": [
      "Raja Raju Rupesh Ram\n"
     ]
    }
   ],
   "source": [
    "def function_name_print(a,b,c,d):\n",
    "\n",
    "    print(a,b,c,d)\n",
    "\n",
    "function_name_print(\"Raja\",\"Raju\",\"Rupesh\",\"Ram\")"
   ]
  },
  {
   "cell_type": "code",
   "execution_count": 7,
   "id": "7e0f8ffc-b1c3-4563-8915-7731febc8b1f",
   "metadata": {},
   "outputs": [
    {
     "name": "stdout",
     "output_type": "stream",
     "text": [
      "<class 'tuple'>\n",
      "Raja\n",
      "Ram\n"
     ]
    }
   ],
   "source": [
    "def fun(*args):\n",
    "\n",
    "    print(type(args))\n",
    "    print(args[0])\n",
    "    print(args[3])\n",
    "\n",
    "name = [\"Raja\",\"Raju\",\"Rupesh\",\"Ram\"]\n",
    "fun(*name)"
   ]
  },
  {
   "cell_type": "code",
   "execution_count": 9,
   "id": "ac98da09-20f9-49f1-b015-d8b054af7d43",
   "metadata": {},
   "outputs": [
    {
     "name": "stdout",
     "output_type": "stream",
     "text": [
      "Raja\n",
      "Raju\n",
      "Rupesh\n",
      "Ram\n",
      "Ravi\n"
     ]
    }
   ],
   "source": [
    "def fun(*args):\n",
    "    \n",
    "    for item in args:\n",
    "        print(item)\n",
    "        \n",
    "name = [\"Raja\",\"Raju\",\"Rupesh\",\"Ram\",\"Ravi\"]\n",
    "fun(*name)"
   ]
  },
  {
   "cell_type": "code",
   "execution_count": 14,
   "id": "83f2e56b-552f-47aa-80ae-e1616ca8e0d9",
   "metadata": {},
   "outputs": [
    {
     "name": "stdout",
     "output_type": "stream",
     "text": [
      "This is a normal\n",
      "Raja\n",
      "Raju\n",
      "Rupesh\n",
      "Ram\n",
      "Ravi\n"
     ]
    }
   ],
   "source": [
    "def fun(normal, *args):\n",
    "\n",
    "    print(normal)\n",
    "    for item in args:\n",
    "        print(item)\n",
    "        \n",
    "name = [\"Raja\",\"Raju\",\"Rupesh\",\"Ram\",\"Ravi\"]\n",
    "normal = \"I am a n\"\n",
    "fun(normal,*name)\n",
    "#fun(*name, normal)"
   ]
  },
  {
   "cell_type": "code",
   "execution_count": null,
   "id": "8e7f595e-3437-4fdb-85c6-93d71ab1fae2",
   "metadata": {},
   "outputs": [],
   "source": []
  }
 ],
 "metadata": {
  "kernelspec": {
   "display_name": "Python 3 (ipykernel)",
   "language": "python",
   "name": "python3"
  },
  "language_info": {
   "codemirror_mode": {
    "name": "ipython",
    "version": 3
   },
   "file_extension": ".py",
   "mimetype": "text/x-python",
   "name": "python",
   "nbconvert_exporter": "python",
   "pygments_lexer": "ipython3",
   "version": "3.11.7"
  }
 },
 "nbformat": 4,
 "nbformat_minor": 5
}
