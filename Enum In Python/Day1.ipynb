{
 "cells": [
  {
   "cell_type": "markdown",
   "id": "e38b0c44-ef8b-40c7-a9a0-fccca8fe833c",
   "metadata": {},
   "source": [
    "# Enum in Python"
   ]
  },
  {
   "cell_type": "markdown",
   "id": "a8cffcfc-ff27-4d3b-8523-06bc7dcd736c",
   "metadata": {},
   "source": [
    "#Enum is a class in Python that allows us to represent enumeration.\n",
    "\n",
    "#Enum allows us to create a symbolic name. \n",
    "\n",
    "#if you have symbolic names and you want to bound them with a unique values or constant. Then we use the method of enum"
   ]
  },
  {
   "cell_type": "code",
   "execution_count": 11,
   "id": "3740a231-3089-4b1c-a2ff-f780458a30b0",
   "metadata": {},
   "outputs": [
    {
     "name": "stdout",
     "output_type": "stream",
     "text": [
      "Smartphones.Nokia\n",
      "Nokia\n",
      "3\n"
     ]
    }
   ],
   "source": [
    "from enum import Enum\n",
    "\n",
    "class Smartphones(Enum):\n",
    "    samsung = 1\n",
    "    Nokia = 2\n",
    "    Apple = 3\n",
    "    Onepluse = 4\n",
    "\n",
    "print(Smartphones.Nokia)  #It prints that it belongs to a class of Smartphones with Nokia\n",
    "print(Smartphones.Nokia.name)\n",
    "print(Smartphones.Apple.value)\n"
   ]
  },
  {
   "cell_type": "code",
   "execution_count": 21,
   "id": "9d6eab30-bc12-4566-a0dc-1f44b4994a83",
   "metadata": {},
   "outputs": [
    {
     "name": "stdout",
     "output_type": "stream",
     "text": [
      "OrderSide.BUY\n",
      "1\n",
      "OrderStatus.ACKED\n",
      "4\n"
     ]
    }
   ],
   "source": [
    "import enum \n",
    "\n",
    "class OrderSide(enum.Enum):\n",
    "    BUY = 1\n",
    "    SELL = 2\n",
    "\n",
    "class OrderStatus(enum.Enum):\n",
    "    ACKED = 1\n",
    "    NEW_PENDING = 2\n",
    "    RPL_PENDING = 3\n",
    "    CXL_PENDING = 4\n",
    "    INACTIVE = 5\n",
    "\n",
    "print(OrderSide.BUY)\n",
    "print(OrderSide.BUY.value)\n",
    "print(OrderStatus.ACKED)\n",
    "print(OrderStatus.CXL_PENDING.value)\n"
   ]
  },
  {
   "cell_type": "code",
   "execution_count": null,
   "id": "c6de7fb2-d0e1-4050-93cf-f85042f3e72f",
   "metadata": {},
   "outputs": [],
   "source": []
  }
 ],
 "metadata": {
  "kernelspec": {
   "display_name": "Python 3 (ipykernel)",
   "language": "python",
   "name": "python3"
  },
  "language_info": {
   "codemirror_mode": {
    "name": "ipython",
    "version": 3
   },
   "file_extension": ".py",
   "mimetype": "text/x-python",
   "name": "python",
   "nbconvert_exporter": "python",
   "pygments_lexer": "ipython3",
   "version": "3.11.7"
  }
 },
 "nbformat": 4,
 "nbformat_minor": 5
}
