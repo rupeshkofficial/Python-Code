{
 "cells": [
  {
   "cell_type": "markdown",
   "id": "311d8a16-0237-423c-827c-09ee2a148ad0",
   "metadata": {},
   "source": [
    "In Python, we can pass a variable number of arguments to a function using special symbols. There are two special symbols:\n",
    "\n",
    "1. *args (Non Keyword Arguments)\n",
    "\n",
    "2. **kwargs (Keyword Arguments)"
   ]
  },
  {
   "cell_type": "code",
   "execution_count": 3,
   "id": "0431fe55-00cf-4cc8-95aa-5ab22957f052",
   "metadata": {},
   "outputs": [
    {
     "name": "stdout",
     "output_type": "stream",
     "text": [
      "Raja Raju Rupesh Ram\n"
     ]
    }
   ],
   "source": [
    "def function_name_print(a,b,c,d):\n",
    "\n",
    "    print(a,b,c,d)\n",
    "\n",
    "function_name_print(\"Raja\",\"Raju\",\"Rupesh\",\"Ram\")"
   ]
  },
  {
   "cell_type": "code",
   "execution_count": 7,
   "id": "7e0f8ffc-b1c3-4563-8915-7731febc8b1f",
   "metadata": {},
   "outputs": [
    {
     "name": "stdout",
     "output_type": "stream",
     "text": [
      "<class 'tuple'>\n",
      "Raja\n",
      "Ram\n"
     ]
    }
   ],
   "source": [
    "def fun(*args):\n",
    "\n",
    "    print(type(args))\n",
    "    print(args[0])\n",
    "    print(args[3])\n",
    "\n",
    "name = [\"Raja\",\"Raju\",\"Rupesh\",\"Ram\"]\n",
    "fun(*name)"
   ]
  },
  {
   "cell_type": "code",
   "execution_count": 9,
   "id": "ac98da09-20f9-49f1-b015-d8b054af7d43",
   "metadata": {},
   "outputs": [
    {
     "name": "stdout",
     "output_type": "stream",
     "text": [
      "Raja\n",
      "Raju\n",
      "Rupesh\n",
      "Ram\n",
      "Ravi\n"
     ]
    }
   ],
   "source": [
    "def fun(*args):\n",
    "    \n",
    "    for item in args:\n",
    "        print(item)\n",
    "        \n",
    "name = [\"Raja\",\"Raju\",\"Rupesh\",\"Ram\",\"Ravi\"]\n",
    "fun(*name)"
   ]
  },
  {
   "cell_type": "code",
   "execution_count": 15,
   "id": "83f2e56b-552f-47aa-80ae-e1616ca8e0d9",
   "metadata": {},
   "outputs": [
    {
     "name": "stdout",
     "output_type": "stream",
     "text": [
      "I am a normal Argument and the students are:\n",
      "Raja\n",
      "Raju\n",
      "Rupesh\n",
      "Ram\n",
      "Ravi\n"
     ]
    }
   ],
   "source": [
    "def fun(normal, *args):\n",
    "\n",
    "    print(normal)\n",
    "    for item in args:\n",
    "        print(item)\n",
    "        \n",
    "name = [\"Raja\",\"Raju\",\"Rupesh\",\"Ram\",\"Ravi\"]\n",
    "normal = \"I am a normal Argument and the students are:\"\n",
    "fun(normal,*name)\n",
    "#fun(*name, normal)"
   ]
  },
  {
   "cell_type": "markdown",
   "id": "eb87b019-42d3-4347-a2b2-f90b122f10f3",
   "metadata": {},
   "source": [
    "# Example of **kwargs"
   ]
  },
  {
   "cell_type": "code",
   "execution_count": 26,
   "id": "8e7f595e-3437-4fdb-85c6-93d71ab1fae2",
   "metadata": {},
   "outputs": [
    {
     "name": "stdout",
     "output_type": "stream",
     "text": [
      "I am a normal Argument and the students are:\n",
      "Raja\n",
      "Raju\n",
      "Rupesh\n",
      "Ram\n",
      "Ravi\n",
      "\n",
      "Now I would like to introduce some of our heroes\n",
      " Rohan is a Monitor\n",
      " Harry is a Fitness Instructor\n",
      " The Programmer is a Coordinator\n",
      " Shivam is a cook\n"
     ]
    }
   ],
   "source": [
    "def fun(normal, *args, **kwargs):\n",
    "    print(normal)\n",
    "    for item in args:\n",
    "        print(item)\n",
    "    print(\"\\nNow I would like to introduce some of our heroes\")\n",
    "    for key, value in kwargs.items():\n",
    "        print(f\" {key} is a {value}\")\n",
    "        \n",
    "name = [\"Raja\",\"Raju\",\"Rupesh\",\"Ram\",\"Ravi\"]\n",
    "normal = \"I am a normal Argument and the students are:\"\n",
    "kw = {\"Rohan\": \"Monitor\", \"Harry\":\"Fitness Instructor\", \"The Programmer\":\"Coordinator\", \"Shivam\": \"cook\"}\n",
    "fun(normal,*name,**kw)\n",
    "#fun(*name, normal)"
   ]
  },
  {
   "cell_type": "code",
   "execution_count": null,
   "id": "1f41b108-0dc6-4cad-b314-c70f3d85edae",
   "metadata": {},
   "outputs": [],
   "source": []
  }
 ],
 "metadata": {
  "kernelspec": {
   "display_name": "Python 3 (ipykernel)",
   "language": "python",
   "name": "python3"
  },
  "language_info": {
   "codemirror_mode": {
    "name": "ipython",
    "version": 3
   },
   "file_extension": ".py",
   "mimetype": "text/x-python",
   "name": "python",
   "nbconvert_exporter": "python",
   "pygments_lexer": "ipython3",
   "version": "3.11.7"
  }
 },
 "nbformat": 4,
 "nbformat_minor": 5
}
