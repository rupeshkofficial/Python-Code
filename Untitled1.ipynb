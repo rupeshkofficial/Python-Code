{
 "cells": [
  {
   "cell_type": "code",
   "execution_count": 3,
   "id": "898d3c68-3dc8-4f8a-aebd-0dbd0d4097bd",
   "metadata": {},
   "outputs": [
    {
     "ename": "ImportError",
     "evalue": "cannot import name 'Filters' from 'telegram.ext' (C:\\Users\\HP\\anaconda3\\Lib\\site-packages\\telegram\\ext\\__init__.py)",
     "output_type": "error",
     "traceback": [
      "\u001b[1;31m---------------------------------------------------------------------------\u001b[0m",
      "\u001b[1;31mImportError\u001b[0m                               Traceback (most recent call last)",
      "Cell \u001b[1;32mIn[3], line 2\u001b[0m\n\u001b[0;32m      1\u001b[0m \u001b[38;5;28;01mimport\u001b[39;00m \u001b[38;5;21;01mlogging\u001b[39;00m\n\u001b[1;32m----> 2\u001b[0m \u001b[38;5;28;01mfrom\u001b[39;00m \u001b[38;5;21;01mtelegram\u001b[39;00m\u001b[38;5;21;01m.\u001b[39;00m\u001b[38;5;21;01mext\u001b[39;00m \u001b[38;5;28;01mimport\u001b[39;00m Updater, CommandHandler, MessageHandler, Filters\n\u001b[0;32m      3\u001b[0m \u001b[38;5;28;01mimport\u001b[39;00m \u001b[38;5;21;01masyncio\u001b[39;00m\n\u001b[0;32m      4\u001b[0m \u001b[38;5;28;01mimport\u001b[39;00m \u001b[38;5;21;01mthreading\u001b[39;00m\n",
      "\u001b[1;31mImportError\u001b[0m: cannot import name 'Filters' from 'telegram.ext' (C:\\Users\\HP\\anaconda3\\Lib\\site-packages\\telegram\\ext\\__init__.py)"
     ]
    }
   ],
   "source": [
    "import logging\n",
    "from telegram.ext import Updater, CommandHandler, MessageHandler, Filters\n",
    "import asyncio\n",
    "import threading\n",
    "\n",
    "# Set up logging\n",
    "logging.basicConfig(format='%(asctime)s - %(name)s - %(levelname)s - %(message)s', level=logging.INFO)\n",
    "\n",
    "# Telegram bot token\n",
    "TELEGRAM_BOT_TOKEN = '7204627673:AAHYqjBSQTcyiSvXU2Od-NwvfEY4dRJcaPk'\n",
    "\n",
    "def forward_message_to_channel(update, context):\n",
    "    message = update.message.text\n",
    "    # Define your filter condition here\n",
    "    if 'Message by : SAURABH SAHU' in message:  # Replace 'your keyword' with the actual keyword\n",
    "        context.bot.send_message(chat_id='@rupesh_alert', text=message)\n",
    "\n",
    "def start(update, context):\n",
    "    update.message.reply_text('Bot started!')\n",
    "\n",
    "def start_bot():\n",
    "    updater = Updater(token=TELEGRAM_BOT_TOKEN, use_context=True)\n",
    "    dispatcher = updater.dispatcher\n",
    "\n",
    "    dispatcher.add_handler(CommandHandler(\"start\", start))\n",
    "    dispatcher.add_handler(MessageHandler(Filters.text & ~Filters.command, forward_message_to_channel))\n",
    "\n",
    "    updater.start_polling()\n",
    "    updater.idle()\n",
    "\n",
    "if __name__ == '__main__':\n",
    "    # Start the bot in a new thread\n",
    "    threading.Thread(target=start_bot).start()\n",
    "\n",
    "    loop = asyncio.get_event_loop()\n",
    "    try:\n",
    "        loop.run_forever()\n",
    "    finally:\n",
    "        loop.close()\n"
   ]
  },
  {
   "cell_type": "code",
   "execution_count": null,
   "id": "5acee016-97a8-439b-afc2-37efc56c7257",
   "metadata": {},
   "outputs": [],
   "source": []
  }
 ],
 "metadata": {
  "kernelspec": {
   "display_name": "Python 3 (ipykernel)",
   "language": "python",
   "name": "python3"
  },
  "language_info": {
   "codemirror_mode": {
    "name": "ipython",
    "version": 3
   },
   "file_extension": ".py",
   "mimetype": "text/x-python",
   "name": "python",
   "nbconvert_exporter": "python",
   "pygments_lexer": "ipython3",
   "version": "3.11.7"
  }
 },
 "nbformat": 4,
 "nbformat_minor": 5
}
