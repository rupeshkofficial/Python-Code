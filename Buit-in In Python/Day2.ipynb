{
 "cells": [
  {
   "cell_type": "markdown",
   "id": "668ee49d-8d65-44d4-91e0-95bb2055a538",
   "metadata": {},
   "source": [
    "# Built in Module"
   ]
  },
  {
   "cell_type": "markdown",
   "id": "1c040422-735f-460f-af79-f8ba97fe3a2d",
   "metadata": {},
   "source": [
    "Consider a module to be the same as a code library.\n",
    "\n",
    "A file containing a set of functions you want to include in your application.\n",
    "\n",
    "Examples of Python Module:\n",
    "\n",
    "1. Math\n",
    "2. Random\n",
    "3. os\n",
    "4. time\n",
    "\n"
   ]
  },
  {
   "cell_type": "code",
   "execution_count": 7,
   "id": "f13eaad1-00ad-4fb7-8fdd-6b4df3a24322",
   "metadata": {},
   "outputs": [
    {
     "name": "stdout",
     "output_type": "stream",
     "text": [
      "\n",
      "Please wait a moment while I gather a list of all available modules...\n",
      "\n",
      "6c7190bc8b55ffe67f57__mypyc conda_build         mdurl               sndhdr\n",
      "IPython             conda_content_trust menuinst            sniffio\n",
      "OpenSSL             conda_env           mimetypes           snowballstemmer\n",
      "PIL                 conda_index         mistune             socket\n",
      "PyQt5               conda_libmamba_solver mkl                 socketserver\n",
      "__future__          conda_pack          mkl_fft             socks\n",
      "__hello__           conda_package_handling mmap                sockshandler\n",
      "__phello__          conda_package_streaming mmapfile            sortedcontainers\n",
      "_abc                conda_token         mmsystem            soupsieve\n",
      "_aix_support        conda_verify        modulefinder        sphinx\n",
      "_argon2_cffi_bindings conf                more_itertools      sphinxify\n",
      "_ast                configparser        mpmath              sphinxthread\n",
      "_asyncio            constantly          msgpack             spyder\n",
      "_bisect             contextlib          msilib              spyder_kernels\n",
      "_black_version      contextvars         msvcrt              sqlalchemy\n",
      "_blake2             contourpy           multidict           sqlite3\n",
      "_bootsubprocess     cookiecutter        multipledispatch    sre_compile\n",
      "_brotli             copy                multiprocessing     sre_constants\n",
      "_bz2                copyreg             munkres             sre_parse\n",
      "_cffi_backend       cpuinfo             mypy                ssl\n",
      "_codecs             crypt               mypy_extensions     sspi\n",
      "_codecs_cn          cryptography        mypyc               sspicon\n",
      "_codecs_hk          cssselect           nacl                stack_data\n",
      "_codecs_iso2022     csv                 navigator_updater   start_pythonwin\n",
      "_codecs_jp          ctypes              nbclient            stat\n",
      "_codecs_kr          curl                nbconvert           statistics\n",
      "_codecs_tw          curses              nbformat            statsmodels\n",
      "_collections        cwp                 nest_asyncio        streamlit\n",
      "_collections_abc    cycler              netbios             string\n",
      "_compat_pickle      cytoolz             netrc               stringprep\n",
      "_compression        dask                networkx            struct\n",
      "_contextvars        dataclasses         nltk                subprocess\n",
      "_csv                datashader          nntplib             sunau\n",
      "_ctypes             datetime            notebook            sympy\n",
      "_ctypes_test        dateutil            notebook_shim       symtable\n",
      "_datetime           dbi                 nt                  sys\n",
      "_decimal            dbm                 ntpath              sysconfig\n",
      "_distutils_hack     dde                 ntsecuritycon       tables\n",
      "_elementtree        debugpy             nturl2path          tabnanny\n",
      "_functools          decimal             numba               tabulate\n",
      "_hashlib            decorator           numbergen           tarfile\n",
      "_heapq              defusedxml          numbers             tblib\n",
      "_imp                diff_match_patch    numexpr             telnetlib\n",
      "_io                 difflib             numpy               tempfile\n",
      "_json               dill                numpydoc            tenacity\n",
      "_locale             dis                 odbc                terminado\n",
      "_lsprof             distributed         opcode              test\n",
      "_lzma               distro              openpyxl            test_pycosat\n",
      "_markupbase         distutils           operator            text_unidecode\n",
      "_md5                docstring_to_markdown optparse            textdistance\n",
      "_msi                doctest             os                  textwrap\n",
      "_multibytecodec     docutils            overrides           this\n",
      "_multiprocessing    dotenv              packaging           threading\n",
      "_nsis               email               pandas              threadpoolctl\n",
      "_opcode             encodings           pandocfilters       three_merge\n",
      "_operator           ensurepip           panel               tifffile\n",
      "_osx_support        entrypoints         param               time\n",
      "_overlapped         enum                paramiko            timeit\n",
      "_pickle             erfa                parsel              timer\n",
      "_plotly_future_     errno               parso               tinycss2\n",
      "_plotly_utils       et_xmlfile          partd               tkinter\n",
      "_py_abc             executing           past                tldextract\n",
      "_pydecimal          fastjsonschema      pathlib             tlz\n",
      "_pyio               faulthandler        pathspec            token\n",
      "_pytest             filecmp             patsy               tokenize\n",
      "_queue              fileinput           pdb                 toml\n",
      "_random             filelock            perfmon             tomlkit\n",
      "_sha1               flake8              pexpect             tomllib\n",
      "_sha256             flask               pi                  toolz\n",
      "_sha3               fnmatch             pickle              tornado\n",
      "_sha512             fontTools           pickleshare         tqdm\n",
      "_signal             fqdn                pickletools         trace\n",
      "_sitebuiltins       fractions           pip                 traceback\n",
      "_socket             frozenlist          pipes               tracemalloc\n",
      "_sqlite3            fsspec              pkce                traitlets\n",
      "_sre                ftplib              pkg_resources       truststore\n",
      "_ssl                functools           pkginfo             tty\n",
      "_stat               future              pkgutil             turtle\n",
      "_statistics         gc                  platform            turtledemo\n",
      "_string             genericpath         platformdirs        twisted\n",
      "_strptime           gensim              plistlib            types\n",
      "_struct             getopt              plotly              typing\n",
      "_symtable           getpass             pluggy              typing_extensions\n",
      "_system_path        gettext             ply                 tzdata\n",
      "_testbuffer         git                 poplib              tzlocal\n",
      "_testcapi           gitdb               posixpath           uc_micro\n",
      "_testconsole        glob                pprint              ujson\n",
      "_testimportmultiple gmpy2               profile             unicodedata\n",
      "_testinternalcapi   graphlib            prometheus_client   unidecode\n",
      "_testmultiphase     greenlet            prompt_toolkit      unittest\n",
      "_thread             gzip                protego             uri_template\n",
      "_threading_local    h11                 pstats              urllib\n",
      "_tkinter            h5py                psutil              urllib3\n",
      "_tokenize           hashlib             pty                 uu\n",
      "_tracemalloc        heapdict            ptyprocess          uuid\n",
      "_typing             heapq               pure_eval           validators\n",
      "_uuid               hmac                py                  venv\n",
      "_warnings           holoviews           py_compile          w3lib\n",
      "_weakref            html                pyarrow             warnings\n",
      "_weakrefset         http                pyasn1              watchdog\n",
      "_win32sysloader     httpcore            pyasn1_modules      wave\n",
      "_winapi             httpx               pyclbr              wcwidth\n",
      "_winxptheme         hvplot              pycodestyle         weakref\n",
      "_xxsubinterpreters  hyperlink           pycosat             webbrowser\n",
      "_yaml               idlelib             pycparser           webcolors\n",
      "_zoneinfo           idna                pyct                webencodings\n",
      "abc                 imagecodecs         pycurl              websocket\n",
      "adodbapi            imageio             pydantic            werkzeug\n",
      "afxres              imagesize           pydeck              whatthepatch\n",
      "aifc                imaplib             pydispatch          wheel\n",
      "aiobotocore         imblearn            pydoc               widgetsnbextension\n",
      "aiohttp             imghdr              pydoc_data          win2kras\n",
      "aioitertools        imp                 pydocstyle          win32api\n",
      "aiosignal           importlib           pyexpat             win32clipboard\n",
      "alabaster           importlib_metadata  pyflakes            win32com\n",
      "altair              incremental         pygments            win32con\n",
      "anaconda_anon_usage inflection          pylab               win32console\n",
      "anaconda_catalogs   iniconfig           pylint              win32cred\n",
      "anaconda_cloud_auth inspect             pylint_venv         win32crypt\n",
      "anaconda_navigator  intake              pyls_spyder         win32cryptcon\n",
      "anaconda_project    intervaltree        pylsp               win32ctypes\n",
      "antigravity         io                  pylsp_black         win32event\n",
      "anyio               ipaddress           pylsp_jsonrpc       win32evtlog\n",
      "appdirs             ipykernel           pyodbc              win32evtlogutil\n",
      "archspec            ipykernel_launcher  pyparsing           win32file\n",
      "argon2              ipython_genutils    pytest              win32gui\n",
      "argparse            ipywidgets          pythoncom           win32gui_struct\n",
      "array               isapi               pythonjsonlogger    win32help\n",
      "arrow               isoduration         pytoolconfig        win32inet\n",
      "ast                 isort               pytz                win32inetcon\n",
      "astroid             isympy              pyviz_comms         win32job\n",
      "astropy             itemadapter         pywin               win32lz\n",
      "asttokens           itemloaders         pywin32_bootstrap   win32net\n",
      "async_lru           itertools           pywin32_testutil    win32netcon\n",
      "asynchat            itsdangerous        pywintypes          win32pdh\n",
      "asyncio             jedi                pywt                win32pdhquery\n",
      "asyncore            jellyfish           qdarkstyle          win32pdhutil\n",
      "atexit              jinja2              qstylizer           win32pipe\n",
      "atomicwrites        jmespath            qtawesome           win32print\n",
      "attr                joblib              qtconsole           win32process\n",
      "attrs               json                qtpy                win32profile\n",
      "audioop             json5               queue               win32ras\n",
      "automat             jsonpatch           queuelib            win32rcparser\n",
      "autopep8            jsonpointer         quopri              win32security\n",
      "babel               jsonschema          random              win32service\n",
      "backports           jsonschema_specifications rasutil             win32serviceutil\n",
      "base64              jupyter             re                  win32timezone\n",
      "bcrypt              jupyter_client      referencing         win32trace\n",
      "bdb                 jupyter_console     regcheck            win32traceutil\n",
      "binaryornot         jupyter_core        regex               win32transaction\n",
      "binascii            jupyter_events      regutil             win32ts\n",
      "binstar_client      jupyter_lsp         repo_cli            win32ui\n",
      "bisect              jupyter_server      reprlib             win32uiole\n",
      "black               jupyter_server_terminals requests            win32verstamp\n",
      "blackd              jupyterlab          requests_file       win32wnet\n",
      "bleach              jupyterlab_plotly   requests_toolbelt   win_inet_pton\n",
      "blib2to3            jupyterlab_pygments rfc3339_validator   winerror\n",
      "blinker             jupyterlab_server   rfc3986_validator   winioctlcon\n",
      "bokeh               jupyterlab_widgets  rich                winnt\n",
      "boltons             jwt                 rlcompleter         winperf\n",
      "botocore            keyring             rope                winpty\n",
      "bottleneck          keyword             rpds                winreg\n",
      "brotli              kiwisolver          rtree               winsound\n",
      "bs4                 lazy_loader         ruamel_yaml         winxpgui\n",
      "builtins            lazy_object_proxy   runpy               winxptheme\n",
      "bz2                 lckr_jupyterlab_variableinspector s3fs                wrapt\n",
      "cProfile            lib2to3             sched               wsgiref\n",
      "cachetools          libarchive          scipy               xarray\n",
      "calendar            libfuturize         scrapy              xdrlib\n",
      "certifi             libmambapy          seaborn             xlwings\n",
      "cffi                libpasteurize       secrets             xml\n",
      "cgi                 lief                select              xmlrpc\n",
      "cgitb               linecache           selectors           xxlimited\n",
      "chardet             linkify_it          semver              xxlimited_35\n",
      "charset_normalizer  llvmlite            send2trash          xxsubtype\n",
      "chunk               lmdb                service_identity    xyzservices\n",
      "click               locale              servicemanager      yaml\n",
      "cloudpickle         locket              setuptools          yapf\n",
      "clyent              logging             shelve              yapftests\n",
      "cmath               lxml                shlex               yarl\n",
      "cmd                 lz4                 shutil              zict\n",
      "code                lzma                signal              zipapp\n",
      "codecs              mailbox             sipbuild            zipfile\n",
      "codeop              mailcap             site                zipimport\n",
      "collections         markdown            six                 zipp\n",
      "colorama            markdown_it         skimage             zlib\n",
      "colorcet            markupsafe          sklearn             zmq\n",
      "colorsys            marshal             slugify             zoneinfo\n",
      "comm                math                smart_open          zope\n",
      "commctrl            matplotlib          smmap               zstandard\n",
      "compileall          matplotlib_inline   smtpd               \n",
      "concurrent          mccabe              smtplib             \n",
      "conda               mdit_py_plugins     snappy              \n",
      "\n",
      "Enter any module name to get more help.  Or, type \"modules spam\" to search\n",
      "for modules whose name or summary contain the string \"spam\".\n",
      "\n"
     ]
    }
   ],
   "source": [
    "help('modules')"
   ]
  },
  {
   "cell_type": "markdown",
   "id": "74d64f68-a197-4765-8097-b190c831cabd",
   "metadata": {},
   "source": [
    "# Math Module"
   ]
  },
  {
   "cell_type": "code",
   "execution_count": 10,
   "id": "86a6ce65-af95-4cf8-8cc2-7bb2d54576c4",
   "metadata": {},
   "outputs": [],
   "source": [
    "import math"
   ]
  },
  {
   "cell_type": "code",
   "execution_count": 13,
   "id": "e9cd80b1-5d50-4362-b2a2-22a86af17cc6",
   "metadata": {},
   "outputs": [
    {
     "data": {
      "text/plain": [
       "3.141592653589793"
      ]
     },
     "execution_count": 13,
     "metadata": {},
     "output_type": "execute_result"
    }
   ],
   "source": [
    "math.pi"
   ]
  },
  {
   "cell_type": "code",
   "execution_count": 12,
   "id": "6e020753-eaac-4e30-bee7-7b556ea6f841",
   "metadata": {},
   "outputs": [
    {
     "data": {
      "text/plain": [
       "2.718281828459045"
      ]
     },
     "execution_count": 12,
     "metadata": {},
     "output_type": "execute_result"
    }
   ],
   "source": [
    "math.e"
   ]
  },
  {
   "cell_type": "code",
   "execution_count": 14,
   "id": "cdb7f397-dc3f-44de-a3b0-0585f89d67e0",
   "metadata": {},
   "outputs": [
    {
     "data": {
      "text/plain": [
       "120"
      ]
     },
     "execution_count": 14,
     "metadata": {},
     "output_type": "execute_result"
    }
   ],
   "source": [
    "math.factorial(5)"
   ]
  },
  {
   "cell_type": "code",
   "execution_count": 16,
   "id": "7b075dbc-bf2a-4526-9157-ee778a5c18c2",
   "metadata": {},
   "outputs": [
    {
     "data": {
      "text/plain": [
       "6"
      ]
     },
     "execution_count": 16,
     "metadata": {},
     "output_type": "execute_result"
    }
   ],
   "source": [
    "math.floor(6.9)"
   ]
  },
  {
   "cell_type": "code",
   "execution_count": 17,
   "id": "cf961e8d-9475-4a8b-901c-58977b667d9b",
   "metadata": {},
   "outputs": [
    {
     "data": {
      "text/plain": [
       "10.0"
      ]
     },
     "execution_count": 17,
     "metadata": {},
     "output_type": "execute_result"
    }
   ],
   "source": [
    "math.sqrt(100)"
   ]
  },
  {
   "cell_type": "markdown",
   "id": "9038bfb4-4193-4b4f-9b12-7ecc2b2f2dad",
   "metadata": {},
   "source": [
    "# Random Module"
   ]
  },
  {
   "cell_type": "code",
   "execution_count": 18,
   "id": "1cc90524-4312-4bda-aed5-e4cbbbb0a131",
   "metadata": {},
   "outputs": [],
   "source": [
    "import random"
   ]
  },
  {
   "cell_type": "code",
   "execution_count": 21,
   "id": "2937aa4d-c041-452a-8379-72ed1c801fef",
   "metadata": {},
   "outputs": [
    {
     "data": {
      "text/plain": [
       "17"
      ]
     },
     "execution_count": 21,
     "metadata": {},
     "output_type": "execute_result"
    }
   ],
   "source": [
    "random.randint(1,100)  # random number between 1 to 100"
   ]
  },
  {
   "cell_type": "code",
   "execution_count": 26,
   "id": "0b2208ca-25f5-44a1-b1cc-02317bf2e46c",
   "metadata": {},
   "outputs": [
    {
     "name": "stdout",
     "output_type": "stream",
     "text": [
      "[5, 4, 3, 1, 2]\n"
     ]
    }
   ],
   "source": [
    "a = [1,2,3,4,5]\n",
    "random.shuffle(a)  # Just like shuffling of card\n",
    "print(a)"
   ]
  },
  {
   "cell_type": "markdown",
   "id": "6feddb52-7787-46f0-8bed-46ca55117147",
   "metadata": {},
   "source": [
    "# Time Module"
   ]
  },
  {
   "cell_type": "code",
   "execution_count": 30,
   "id": "9635ee21-13c2-4e75-99c6-4317aedde751",
   "metadata": {},
   "outputs": [],
   "source": [
    "import time"
   ]
  },
  {
   "cell_type": "code",
   "execution_count": 31,
   "id": "52756fd8-368f-457a-aa02-9be480ee56bd",
   "metadata": {},
   "outputs": [
    {
     "data": {
      "text/plain": [
       "1713782901.9433582"
      ]
     },
     "execution_count": 31,
     "metadata": {},
     "output_type": "execute_result"
    }
   ],
   "source": [
    "time.time()"
   ]
  },
  {
   "cell_type": "code",
   "execution_count": 32,
   "id": "a7f7fd3f-78c8-4e54-a266-21f52dffff8a",
   "metadata": {},
   "outputs": [
    {
     "data": {
      "text/plain": [
       "'Mon Apr 22 16:18:40 2024'"
      ]
     },
     "execution_count": 32,
     "metadata": {},
     "output_type": "execute_result"
    }
   ],
   "source": [
    "time.ctime()  # Current Time"
   ]
  },
  {
   "cell_type": "code",
   "execution_count": 34,
   "id": "0960f095-d190-4cd6-9493-2b1aa3da60ec",
   "metadata": {},
   "outputs": [
    {
     "name": "stdout",
     "output_type": "stream",
     "text": [
      "Rupesh\n",
      "Kumar\n"
     ]
    }
   ],
   "source": [
    "print(\"Rupesh\")\n",
    "time.sleep(2)  # print \"Kumar\" after 2 second delay\n",
    "print(\"Kumar\")"
   ]
  },
  {
   "cell_type": "markdown",
   "id": "992e355d-2a74-4af5-b1cb-82a8018884b0",
   "metadata": {},
   "source": [
    "# OS Module"
   ]
  },
  {
   "cell_type": "code",
   "execution_count": 35,
   "id": "a423f3ea-5b0c-438e-b4c7-60d5383548c9",
   "metadata": {},
   "outputs": [],
   "source": [
    "import os"
   ]
  },
  {
   "cell_type": "code",
   "execution_count": 36,
   "id": "e19e14db-f766-411b-9cf1-b0f971100f9c",
   "metadata": {},
   "outputs": [
    {
     "data": {
      "text/plain": [
       "'C:\\\\Users\\\\HP\\\\Desktop\\\\Coding Practice\\\\Python Code\\\\Buit-in In Python'"
      ]
     },
     "execution_count": 36,
     "metadata": {},
     "output_type": "execute_result"
    }
   ],
   "source": [
    "os.getcwd()  #Gives current directory"
   ]
  },
  {
   "cell_type": "code",
   "execution_count": 37,
   "id": "d88c28e8-e9e6-499a-af0b-ec2fffe7d6a7",
   "metadata": {},
   "outputs": [
    {
     "data": {
      "text/plain": [
       "['.ipynb_checkpoints', 'Day1.ipynb', 'Day2.ipynb']"
      ]
     },
     "execution_count": 37,
     "metadata": {},
     "output_type": "execute_result"
    }
   ],
   "source": [
    "os.listdir()"
   ]
  },
  {
   "cell_type": "code",
   "execution_count": null,
   "id": "84c85608-c120-417e-abdd-de8da31d8581",
   "metadata": {},
   "outputs": [],
   "source": []
  }
 ],
 "metadata": {
  "kernelspec": {
   "display_name": "Python 3 (ipykernel)",
   "language": "python",
   "name": "python3"
  },
  "language_info": {
   "codemirror_mode": {
    "name": "ipython",
    "version": 3
   },
   "file_extension": ".py",
   "mimetype": "text/x-python",
   "name": "python",
   "nbconvert_exporter": "python",
   "pygments_lexer": "ipython3",
   "version": "3.11.7"
  }
 },
 "nbformat": 4,
 "nbformat_minor": 5
}
