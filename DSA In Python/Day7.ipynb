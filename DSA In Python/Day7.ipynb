{
 "cells": [
  {
   "cell_type": "markdown",
   "id": "ec030862-6489-4701-9c03-ff19f327fb2b",
   "metadata": {},
   "source": [
    "# Data Structures In Python\n",
    "\n",
    "1. Strings\n",
    "2. List\n",
    "3. Tuple\n",
    "4. Sets\n",
    "5. Dictionary"
   ]
  },
  {
   "cell_type": "markdown",
   "id": "61527573-ffeb-43f4-b6ea-471c3dfae027",
   "metadata": {},
   "source": [
    "# Strings"
   ]
  },
  {
   "cell_type": "markdown",
   "id": "eb70f4ee-71e1-4a02-a0fe-fbb03d11ed97",
   "metadata": {},
   "source": [
    "String slicing"
   ]
  },
  {
   "cell_type": "code",
   "execution_count": 2,
   "id": "6b14c0d4-339f-40b1-ad91-6c67cd8c7f41",
   "metadata": {},
   "outputs": [
    {
     "name": "stdout",
     "output_type": "stream",
     "text": [
      "H\n"
     ]
    }
   ],
   "source": [
    "my_string = \"Hello this is a sample string\"\n",
    "print(my_string[0]) #0th position"
   ]
  },
  {
   "cell_type": "code",
   "execution_count": 3,
   "id": "d2c79881-c0ac-40a4-acb7-cae3d2d093c9",
   "metadata": {},
   "outputs": [
    {
     "data": {
      "text/plain": [
       "29"
      ]
     },
     "execution_count": 3,
     "metadata": {},
     "output_type": "execute_result"
    }
   ],
   "source": [
    "len(my_string)"
   ]
  },
  {
   "cell_type": "code",
   "execution_count": 4,
   "id": "f54514d1-d120-4068-beb9-a9a77646b296",
   "metadata": {},
   "outputs": [
    {
     "data": {
      "text/plain": [
       "'g'"
      ]
     },
     "execution_count": 4,
     "metadata": {},
     "output_type": "execute_result"
    }
   ],
   "source": [
    "my_string[28]"
   ]
  },
  {
   "cell_type": "code",
   "execution_count": 7,
   "id": "c3f01747-0b4c-4701-bf7b-b1bb34e61d2d",
   "metadata": {},
   "outputs": [
    {
     "name": "stdout",
     "output_type": "stream",
     "text": [
      " this \n"
     ]
    }
   ],
   "source": [
    "print(my_string[5:11]) #11th position will be exclude"
   ]
  },
  {
   "cell_type": "code",
   "execution_count": 8,
   "id": "7bf5e7f0-2fd7-4d00-bf94-2d8c6d537390",
   "metadata": {},
   "outputs": [
    {
     "name": "stdout",
     "output_type": "stream",
     "text": [
      "g\n",
      "n\n",
      "Hello\n"
     ]
    }
   ],
   "source": [
    "print(my_string[-1])\n",
    "print(my_string[-2])\n",
    "print(my_string[:5])"
   ]
  },
  {
   "cell_type": "code",
   "execution_count": 9,
   "id": "72753f6a-f3d1-44c4-8b37-154e640c955d",
   "metadata": {},
   "outputs": [
    {
     "name": "stdout",
     "output_type": "stream",
     "text": [
      " this is a sample string\n"
     ]
    }
   ],
   "source": [
    "print(my_string[5:])"
   ]
  },
  {
   "cell_type": "markdown",
   "id": "7c9098e4-4d31-43c4-9024-f431c222bb5e",
   "metadata": {},
   "source": [
    "# String Methods"
   ]
  },
  {
   "cell_type": "code",
   "execution_count": 32,
   "id": "e600a6c4-6499-4141-93b1-3a8f35c03659",
   "metadata": {},
   "outputs": [
    {
     "name": "stdout",
     "output_type": "stream",
     "text": [
      "Hello-I-Am-Rupesh-Making-This-Video-For-You\n"
     ]
    }
   ],
   "source": [
    "print(my_string.title())"
   ]
  },
  {
   "cell_type": "code",
   "execution_count": 33,
   "id": "a879542e-5cd2-434a-a6f0-a5e05fb8abe2",
   "metadata": {},
   "outputs": [
    {
     "data": {
      "text/plain": [
       "'HELLO-I-AM-RUPESH-MAKING-THIS-VIDEO-FOR-YOU'"
      ]
     },
     "execution_count": 33,
     "metadata": {},
     "output_type": "execute_result"
    }
   ],
   "source": [
    "my_string.upper()"
   ]
  },
  {
   "cell_type": "code",
   "execution_count": 34,
   "id": "3f542f1b-8f93-4f35-a7e7-3e7e106c7ab3",
   "metadata": {},
   "outputs": [
    {
     "data": {
      "text/plain": [
       "'Hello-i-am-rupesh-making-this-video-for-you'"
      ]
     },
     "execution_count": 34,
     "metadata": {},
     "output_type": "execute_result"
    }
   ],
   "source": [
    "my_string.capitalize()"
   ]
  },
  {
   "cell_type": "code",
   "execution_count": 35,
   "id": "991e7ed1-6a85-40b2-b6e5-52840f2541f9",
   "metadata": {},
   "outputs": [
    {
     "data": {
      "text/plain": [
       "'Hello-I-Am-Rupesh-Making-This-Video-For-You'"
      ]
     },
     "execution_count": 35,
     "metadata": {},
     "output_type": "execute_result"
    }
   ],
   "source": [
    "my_string.title()"
   ]
  },
  {
   "cell_type": "code",
   "execution_count": 36,
   "id": "1cc916f6-a673-4396-af70-7a24c2a24ff6",
   "metadata": {},
   "outputs": [
    {
     "name": "stdout",
     "output_type": "stream",
     "text": [
      "HELLO-I-AM-RUPESH-MAKING-THIS-VIDEO-FOR-YOU\n"
     ]
    }
   ],
   "source": [
    "my_string = my_string.upper()\n",
    "print(my_string)"
   ]
  },
  {
   "cell_type": "code",
   "execution_count": 37,
   "id": "1a20c02f-ddfb-4b9c-bffc-80408df9df52",
   "metadata": {},
   "outputs": [
    {
     "name": "stdout",
     "output_type": "stream",
     "text": [
      "          Hello My Name Is Raja\n"
     ]
    }
   ],
   "source": [
    "my_string = \"          Hello My Name Is Raja\"\n",
    "print(my_string)"
   ]
  },
  {
   "cell_type": "code",
   "execution_count": 38,
   "id": "4ea7856a-4317-45d6-a86f-df73c5f8a305",
   "metadata": {},
   "outputs": [
    {
     "name": "stdout",
     "output_type": "stream",
     "text": [
      "Hello My Name Is Raja\n"
     ]
    }
   ],
   "source": [
    "my_string = my_string.strip()\n",
    "print(my_string)"
   ]
  },
  {
   "cell_type": "code",
   "execution_count": 39,
   "id": "a7807801-a698-49c5-bb39-c8ab984cfe24",
   "metadata": {},
   "outputs": [
    {
     "name": "stdout",
     "output_type": "stream",
     "text": [
      "['Hello', 'My', 'Name', 'Is', 'Raja']\n"
     ]
    }
   ],
   "source": [
    "my_string = my_string.split(' ') #my_string splitted by space\n",
    "print(my_string)"
   ]
  },
  {
   "cell_type": "code",
   "execution_count": 40,
   "id": "326105ea-ac17-485e-ba44-74837b8c7ff2",
   "metadata": {},
   "outputs": [
    {
     "name": "stdout",
     "output_type": "stream",
     "text": [
      "['Hello', 'I', 'am', 'Rupesh', 'making', 'this', 'video', 'for', 'you']\n"
     ]
    }
   ],
   "source": [
    "my_string = 'Hello-I-am-Rupesh-making-this-video-for-you'\n",
    "my_string_words = my_string.split('-')\n",
    "print(my_string_words)"
   ]
  },
  {
   "cell_type": "markdown",
   "id": "2d8e3277-57ba-440b-ac4e-170a64583c45",
   "metadata": {},
   "source": [
    "# Operations On String"
   ]
  },
  {
   "cell_type": "code",
   "execution_count": 60,
   "id": "a0362222-40f9-43ab-94aa-b3be0b5e44e6",
   "metadata": {},
   "outputs": [
    {
     "name": "stdout",
     "output_type": "stream",
     "text": [
      "My name is Rupesh Kumar\n"
     ]
    }
   ],
   "source": [
    "str1 = \"My name is Rupesh \"\n",
    "str2 = \"Kumar\"\n",
    "str3 = str1 + str2 #Concatenation of string\n",
    "print(str3)"
   ]
  },
  {
   "cell_type": "code",
   "execution_count": 61,
   "id": "563aa776-3a6b-4629-8192-0b2f9b6c7573",
   "metadata": {},
   "outputs": [
    {
     "name": "stdout",
     "output_type": "stream",
     "text": [
      "KumarKumarKumarKumarKumarKumarKumarKumarKumarKumar\n"
     ]
    }
   ],
   "source": [
    "print(str2*10)"
   ]
  },
  {
   "cell_type": "code",
   "execution_count": 62,
   "id": "613bbb22-0f93-43de-8ae8-0d7ec7bc2f3f",
   "metadata": {},
   "outputs": [
    {
     "ename": "TypeError",
     "evalue": "'str' object is not callable",
     "output_type": "error",
     "traceback": [
      "\u001b[1;31m---------------------------------------------------------------------------\u001b[0m",
      "\u001b[1;31mTypeError\u001b[0m                                 Traceback (most recent call last)",
      "Cell \u001b[1;32mIn[62], line 3\u001b[0m\n\u001b[0;32m      1\u001b[0m str1 \u001b[38;5;241m=\u001b[39m \u001b[38;5;124m'\u001b[39m\u001b[38;5;124mMy age is \u001b[39m\u001b[38;5;124m'\u001b[39m\n\u001b[0;32m      2\u001b[0m age \u001b[38;5;241m=\u001b[39m \u001b[38;5;241m26\u001b[39m\n\u001b[1;32m----> 3\u001b[0m \u001b[38;5;28mprint\u001b[39m(str1\u001b[38;5;241m+\u001b[39m\u001b[38;5;28;43mstr\u001b[39;49m\u001b[43m(\u001b[49m\u001b[43mage\u001b[49m\u001b[43m)\u001b[49m)\n",
      "\u001b[1;31mTypeError\u001b[0m: 'str' object is not callable"
     ]
    }
   ],
   "source": [
    "str1 = 'My age is '\n",
    "age = 26\n",
    "print"
   ]
  },
  {
   "cell_type": "code",
   "execution_count": null,
   "id": "d0693a12-def4-4116-8784-982127febb1b",
   "metadata": {},
   "outputs": [],
   "source": []
  },
  {
   "cell_type": "code",
   "execution_count": null,
   "id": "a7ba6edc-e381-4ef6-acb4-f924c105fc76",
   "metadata": {},
   "outputs": [],
   "source": []
  }
 ],
 "metadata": {
  "kernelspec": {
   "display_name": "Python 3 (ipykernel)",
   "language": "python",
   "name": "python3"
  },
  "language_info": {
   "codemirror_mode": {
    "name": "ipython",
    "version": 3
   },
   "file_extension": ".py",
   "mimetype": "text/x-python",
   "name": "python",
   "nbconvert_exporter": "python",
   "pygments_lexer": "ipython3",
   "version": "3.11.7"
  }
 },
 "nbformat": 4,
 "nbformat_minor": 5
}
