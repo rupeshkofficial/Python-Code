{
 "cells": [
  {
   "cell_type": "markdown",
   "id": "e5beec43-c3f1-4bbf-a331-6138d94c4605",
   "metadata": {},
   "source": [
    "#Class (Object Oriented Programming)\n",
    "\n",
    "1. Creating employee class\n",
    "2. repr\n",
    "3. roles of employee inheritance class\n",
    "4. managers, employess list under him, number of employee under him"
   ]
  },
  {
   "cell_type": "code",
   "execution_count": null,
   "id": "f3a76bce-ee47-4a03-ac54-b8c0aeb2c513",
   "metadata": {},
   "outputs": [],
   "source": [
    "class Employee:\n",
    "    "
   ]
  }
 ],
 "metadata": {
  "kernelspec": {
   "display_name": "Python 3 (ipykernel)",
   "language": "python",
   "name": "python3"
  },
  "language_info": {
   "codemirror_mode": {
    "name": "ipython",
    "version": 3
   },
   "file_extension": ".py",
   "mimetype": "text/x-python",
   "name": "python",
   "nbconvert_exporter": "python",
   "pygments_lexer": "ipython3",
   "version": "3.11.7"
  }
 },
 "nbformat": 4,
 "nbformat_minor": 5
}
