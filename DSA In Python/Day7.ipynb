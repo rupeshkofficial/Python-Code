{
 "cells": [
  {
   "cell_type": "markdown",
   "id": "ec030862-6489-4701-9c03-ff19f327fb2b",
   "metadata": {},
   "source": [
    "# Data Structures In Python\n",
    "\n",
    "1. Strings\n",
    "2. List\n",
    "3. Tuple\n",
    "4. Sets\n",
    "5. Dictionary"
   ]
  },
  {
   "cell_type": "markdown",
   "id": "61527573-ffeb-43f4-b6ea-471c3dfae027",
   "metadata": {},
   "source": [
    "# Strings"
   ]
  },
  {
   "cell_type": "markdown",
   "id": "eb70f4ee-71e1-4a02-a0fe-fbb03d11ed97",
   "metadata": {},
   "source": [
    "String slicing"
   ]
  },
  {
   "cell_type": "code",
   "execution_count": 2,
   "id": "6b14c0d4-339f-40b1-ad91-6c67cd8c7f41",
   "metadata": {},
   "outputs": [
    {
     "name": "stdout",
     "output_type": "stream",
     "text": [
      "H\n"
     ]
    }
   ],
   "source": [
    "my_string = \"Hello this is a sample string\"\n",
    "print(my_string[0]) #0th position"
   ]
  },
  {
   "cell_type": "code",
   "execution_count": 3,
   "id": "d2c79881-c0ac-40a4-acb7-cae3d2d093c9",
   "metadata": {},
   "outputs": [
    {
     "data": {
      "text/plain": [
       "29"
      ]
     },
     "execution_count": 3,
     "metadata": {},
     "output_type": "execute_result"
    }
   ],
   "source": [
    "len(my_string)"
   ]
  },
  {
   "cell_type": "code",
   "execution_count": 4,
   "id": "f54514d1-d120-4068-beb9-a9a77646b296",
   "metadata": {},
   "outputs": [
    {
     "data": {
      "text/plain": [
       "'g'"
      ]
     },
     "execution_count": 4,
     "metadata": {},
     "output_type": "execute_result"
    }
   ],
   "source": [
    "my_string[28]"
   ]
  },
  {
   "cell_type": "code",
   "execution_count": 7,
   "id": "c3f01747-0b4c-4701-bf7b-b1bb34e61d2d",
   "metadata": {},
   "outputs": [
    {
     "name": "stdout",
     "output_type": "stream",
     "text": [
      " this \n"
     ]
    }
   ],
   "source": [
    "print(my_string[5:11]) #11th position will be exclude"
   ]
  },
  {
   "cell_type": "code",
   "execution_count": 8,
   "id": "7bf5e7f0-2fd7-4d00-bf94-2d8c6d537390",
   "metadata": {},
   "outputs": [
    {
     "name": "stdout",
     "output_type": "stream",
     "text": [
      "g\n",
      "n\n",
      "Hello\n"
     ]
    }
   ],
   "source": [
    "print(my_string[-1])\n",
    "print(my_string[-2])\n",
    "print(my_string[:5])"
   ]
  },
  {
   "cell_type": "code",
   "execution_count": 9,
   "id": "72753f6a-f3d1-44c4-8b37-154e640c955d",
   "metadata": {},
   "outputs": [
    {
     "name": "stdout",
     "output_type": "stream",
     "text": [
      " this is a sample string\n"
     ]
    }
   ],
   "source": [
    "print(my_string[5:])"
   ]
  },
  {
   "cell_type": "code",
   "execution_count": 11,
   "id": "a879542e-5cd2-434a-a6f0-a5e05fb8abe2",
   "metadata": {},
   "outputs": [
    {
     "data": {
      "text/plain": [
       "'Hello this is a sample string'"
      ]
     },
     "execution_count": 11,
     "metadata": {},
     "output_type": "execute_result"
    }
   ],
   "source": [
    "my_string.upper()\n",
    "my_string.capitalize()"
   ]
  },
  {
   "cell_type": "code",
   "execution_count": null,
   "id": "3f542f1b-8f93-4f35-a7e7-3e7e106c7ab3",
   "metadata": {},
   "outputs": [],
   "source": []
  }
 ],
 "metadata": {
  "kernelspec": {
   "display_name": "Python 3 (ipykernel)",
   "language": "python",
   "name": "python3"
  },
  "language_info": {
   "codemirror_mode": {
    "name": "ipython",
    "version": 3
   },
   "file_extension": ".py",
   "mimetype": "text/x-python",
   "name": "python",
   "nbconvert_exporter": "python",
   "pygments_lexer": "ipython3",
   "version": "3.11.7"
  }
 },
 "nbformat": 4,
 "nbformat_minor": 5
}
