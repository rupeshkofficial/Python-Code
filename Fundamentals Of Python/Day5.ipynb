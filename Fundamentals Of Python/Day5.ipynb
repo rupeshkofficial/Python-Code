{
 "cells": [
  {
   "cell_type": "markdown",
   "id": "ddaa9c39-b82e-4005-802f-a3c8e485d2a4",
   "metadata": {},
   "source": [
    "#Nested If Else Condition\n",
    "\n",
    "#if else elif\n"
   ]
  },
  {
   "cell_type": "code",
   "execution_count": 5,
   "id": "2fbfadc0-165a-452f-9a3e-4262c6d0ce23",
   "metadata": {},
   "outputs": [
    {
     "name": "stdin",
     "output_type": "stream",
     "text": [
      "Enter Your age: 25\n"
     ]
    },
    {
     "name": "stdout",
     "output_type": "stream",
     "text": [
      "You are a working professional\n"
     ]
    }
   ],
   "source": [
    "age = int(input(\"Enter Your age:\"))\n",
    "\n",
    "#Checking condition one\n",
    "if age > 0 and age <= 15:\n",
    "    print(\"You are in school\")\n",
    "elif age >= 16 and age <= 22:\n",
    "    print(\"You are in college\")\n",
    "elif age>23:\n",
    "    print(\"You are a working professional\")\n",
    "else:\n",
    "    print(\"Age input is invalid\")\n",
    "    "
   ]
  },
  {
   "cell_type": "markdown",
   "id": "dfdad005-0cce-4d64-ac79-522592451609",
   "metadata": {},
   "source": [
    "#Nested if else"
   ]
  },
  {
   "cell_type": "code",
   "execution_count": null,
   "id": "05697f6b-225e-4738-a616-35e2f5c1a95e",
   "metadata": {},
   "outputs": [],
   "source": [
    "number = int(input(\"Enter a Number:\"))\n",
    "\n",
    "if number >= 0:\n",
    "    if number == 0:\n",
    "        print(\"Number is Zero\")\n",
    "    else:\n",
    "        print(\"Number is Positive\")\n",
    "else:\n",
    "    print(\"Numbe"
   ]
  }
 ],
 "metadata": {
  "kernelspec": {
   "display_name": "Python 3 (ipykernel)",
   "language": "python",
   "name": "python3"
  },
  "language_info": {
   "codemirror_mode": {
    "name": "ipython",
    "version": 3
   },
   "file_extension": ".py",
   "mimetype": "text/x-python",
   "name": "python",
   "nbconvert_exporter": "python",
   "pygments_lexer": "ipython3",
   "version": "3.11.7"
  }
 },
 "nbformat": 4,
 "nbformat_minor": 5
}
