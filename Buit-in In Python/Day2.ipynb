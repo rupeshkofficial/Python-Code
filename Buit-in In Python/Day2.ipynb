{
 "cells": [
  {
   "cell_type": "markdown",
   "id": "668ee49d-8d65-44d4-91e0-95bb2055a538",
   "metadata": {},
   "source": [
    "# Built in Module"
   ]
  },
  {
   "cell_type": "markdown",
   "id": "1c040422-735f-460f-af79-f8ba97fe3a2d",
   "metadata": {},
   "source": [
    "Consider a module to be the same as a code library.\n",
    "\n",
    "A file containing a set of functions you want to include in your application.\n",
    "\n",
    "Examples of Python Module:\n",
    "\n",
    "1. Math\n",
    "2. Random\n",
    "3. os\n",
    "4. \n",
    "\n"
   ]
  },
  {
   "cell_type": "code",
   "execution_count": null,
   "id": "f13eaad1-00ad-4fb7-8fdd-6b4df3a24322",
   "metadata": {},
   "outputs": [],
   "source": []
  }
 ],
 "metadata": {
  "kernelspec": {
   "display_name": "Python 3 (ipykernel)",
   "language": "python",
   "name": "python3"
  },
  "language_info": {
   "codemirror_mode": {
    "name": "ipython",
    "version": 3
   },
   "file_extension": ".py",
   "mimetype": "text/x-python",
   "name": "python",
   "nbconvert_exporter": "python",
   "pygments_lexer": "ipython3",
   "version": "3.11.7"
  }
 },
 "nbformat": 4,
 "nbformat_minor": 5
}
