{
 "cells": [
  {
   "cell_type": "markdown",
   "id": "7771f4cf-958c-4baa-a2b8-4ad3dfaa8155",
   "metadata": {},
   "source": [
    "# Example1"
   ]
  },
  {
   "cell_type": "code",
   "execution_count": 18,
   "id": "62f9fb91-c968-4964-b4d2-eb53afca4459",
   "metadata": {},
   "outputs": [
    {
     "name": "stdout",
     "output_type": "stream",
     "text": [
      "42\n"
     ]
    }
   ],
   "source": [
    "# ABC python me ek module hota hai\n",
    "# agr hm kisi v class ko ABC class se inherit krenge to o class apne child class ko ye aadesh de sakti hai ki kuch method ko implement krna hi krn hai.\n",
    "# jaise yha Rectanle class ABC se inherit hai aur use printarea method implement krna hai.\n",
    "\n",
    "\n",
    "from abc import ABC, abstractmethod\n",
    "\n",
    "class Shape(ABC):\n",
    "    @abstractmethod\n",
    "    def printarea(self):\n",
    "        return 0\n",
    "\n",
    "class Rectangle(Shape):\n",
    "    type = \"Rectangle\"\n",
    "    sides = 4\n",
    "    \n",
    "    def __init__(self):\n",
    "        self.length = 6\n",
    "        self.breadth = 7\n",
    "    \n",
    "    def printarea(self):\n",
    "        return self.length * self.breadth\n",
    "\n",
    "rect1 = Rectangle()\n",
    "print(rect1.printarea())\n",
    "\n",
    "        "
   ]
  },
  {
   "cell_type": "markdown",
   "id": "0b20eabd-6855-47dd-9df8-24388edb6419",
   "metadata": {},
   "source": [
    "# Example2"
   ]
  },
  {
   "cell_type": "markdown",
   "id": "17f4270e-6dbc-4ce2-b274-8fe8e9ffd4cd",
   "metadata": {},
   "source": [
    "# ABC --> Abstract Base Classes"
   ]
  },
  {
   "cell_type": "markdown",
   "id": "5dc211e1-2966-451f-b079-f5c6b45dda84",
   "metadata": {},
   "source": [
    "Abstract Method ---> The method which only has declaration but not a defination."
   ]
  },
  {
   "cell_type": "markdown",
   "id": "6c03cb54-ad84-4e03-b97d-41f7715b76fa",
   "metadata": {},
   "source": [
    "Abstract Classes ---> The class which has abstract method."
   ]
  },
  {
   "cell_type": "code",
   "execution_count": 24,
   "id": "c48df0e5-4ac4-4b60-aeb5-8e2ea1c03f70",
   "metadata": {},
   "outputs": [
    {
     "name": "stdout",
     "output_type": "stream",
     "text": [
      "It's Running\n"
     ]
    }
   ],
   "source": [
    "from abc import ABC, abstractmethod\n",
    "\n",
    "class Computer(ABC):\n",
    "    @abstractmethod\n",
    "    def process(self):\n",
    "        pass\n",
    "\n",
    "class Laptop(Computer):\n",
    "    def process(self):\n",
    "        print(\"It's Running\")\n",
    "\n",
    "lap1 = Laptop()\n",
    "lap1.process()"
   ]
  },
  {
   "cell_type": "code",
   "execution_count": null,
   "id": "12e4c265-e9bb-4f7f-969b-3b32d2044a86",
   "metadata": {},
   "outputs": [],
   "source": []
  }
 ],
 "metadata": {
  "kernelspec": {
   "display_name": "Python 3 (ipykernel)",
   "language": "python",
   "name": "python3"
  },
  "language_info": {
   "codemirror_mode": {
    "name": "ipython",
    "version": 3
   },
   "file_extension": ".py",
   "mimetype": "text/x-python",
   "name": "python",
   "nbconvert_exporter": "python",
   "pygments_lexer": "ipython3",
   "version": "3.11.7"
  }
 },
 "nbformat": 4,
 "nbformat_minor": 5
}
