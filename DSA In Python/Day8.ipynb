{
 "cells": [
  {
   "cell_type": "markdown",
   "id": "23c0e542-bdc0-4bf9-9544-51dd83372c7b",
   "metadata": {},
   "source": [
    "# Tuples In Python\n",
    " Tuples are similar to list but tuple is immutable whereas list is mutable"
   ]
  },
  {
   "cell_type": "code",
   "execution_count": 4,
   "id": "d34dd944-7d37-4f53-a2e6-641019915846",
   "metadata": {},
   "outputs": [],
   "source": [
    "list_1 = [1,2,3,4]"
   ]
  },
  {
   "cell_type": "code",
   "execution_count": 5,
   "id": "fad9e12b-2b82-4910-9a57-371f7aceaa51",
   "metadata": {},
   "outputs": [
    {
     "name": "stdout",
     "output_type": "stream",
     "text": [
      "3\n"
     ]
    }
   ],
   "source": [
    "print(list_1[2])"
   ]
  },
  {
   "cell_type": "code",
   "execution_count": 6,
   "id": "b01f78d6-2b1c-43a7-b9d9-08042ffb48f0",
   "metadata": {},
   "outputs": [],
   "source": [
    "list_1[2] = 56"
   ]
  },
  {
   "cell_type": "code",
   "execution_count": 7,
   "id": "05cb2f53-4f5c-4e07-ac22-1744b068f725",
   "metadata": {},
   "outputs": [
    {
     "name": "stdout",
     "output_type": "stream",
     "text": [
      "[1, 2, 56, 4]\n"
     ]
    }
   ],
   "source": [
    "print(list_1)"
   ]
  },
  {
   "cell_type": "code",
   "execution_count": 11,
   "id": "1e81a644-1c97-40ec-add5-0a5a6e2f97e3",
   "metadata": {},
   "outputs": [
    {
     "name": "stdout",
     "output_type": "stream",
     "text": [
      "(1, 2, 3, 4)\n"
     ]
    }
   ],
   "source": [
    "tup_1 = (1,2,3,4)\n",
    "print(tup_1)"
   ]
  },
  {
   "cell_type": "code",
   "execution_count": 12,
   "id": "ce07cd05-0154-4bc3-9e25-860a42a65344",
   "metadata": {},
   "outputs": [
    {
     "data": {
      "text/plain": [
       "3"
      ]
     },
     "execution_count": 12,
     "metadata": {},
     "output_type": "execute_result"
    }
   ],
   "source": [
    "tup_1[2]"
   ]
  },
  {
   "cell_type": "code",
   "execution_count": 14,
   "id": "59a8309b-649e-4eb1-a2f5-2f57746cd455",
   "metadata": {},
   "outputs": [
    {
     "ename": "TypeError",
     "evalue": "'tuple' object does not support item assignment",
     "output_type": "error",
     "traceback": [
      "\u001b[1;31m---------------------------------------------------------------------------\u001b[0m",
      "\u001b[1;31mTypeError\u001b[0m                                 Traceback (most recent call last)",
      "Cell \u001b[1;32mIn[14], line 1\u001b[0m\n\u001b[1;32m----> 1\u001b[0m \u001b[43mtup_1\u001b[49m\u001b[43m[\u001b[49m\u001b[38;5;241;43m2\u001b[39;49m\u001b[43m]\u001b[49m \u001b[38;5;241m=\u001b[39m \u001b[38;5;241m56\u001b[39m \u001b[38;5;66;03m#TypeError: 'tuple' object does not support item assignment\u001b[39;00m\n\u001b[0;32m      2\u001b[0m               \u001b[38;5;66;03m# tuple is not mutuable\u001b[39;00m\n",
      "\u001b[1;31mTypeError\u001b[0m: 'tuple' object does not support item assignment"
     ]
    }
   ],
   "source": [
    "tup_1[2] = 56 #TypeError: 'tuple' object does not support item assignment\n",
    "              # tuple is not mutuable"
   ]
  },
  {
   "cell_type": "code",
   "execution_count": 15,
   "id": "50cdbbab-595f-4716-bbbc-bd28d19f7120",
   "metadata": {},
   "outputs": [],
   "source": [
    "# tuples are read-only list"
   ]
  },
  {
   "cell_type": "code",
   "execution_count": 16,
   "id": "321e2985-3f87-4031-89f3-f551a199f928",
   "metadata": {},
   "outputs": [
    {
     "ename": "TypeError",
     "evalue": "tuple.count() takes exactly one argument (0 given)",
     "output_type": "error",
     "traceback": [
      "\u001b[1;31m---------------------------------------------------------------------------\u001b[0m",
      "\u001b[1;31mTypeError\u001b[0m                                 Traceback (most recent call last)",
      "Cell \u001b[1;32mIn[16], line 1\u001b[0m\n\u001b[1;32m----> 1\u001b[0m \u001b[43mtup_1\u001b[49m\u001b[38;5;241;43m.\u001b[39;49m\u001b[43mcount\u001b[49m\u001b[43m(\u001b[49m\u001b[43m)\u001b[49m\n",
      "\u001b[1;31mTypeError\u001b[0m: tuple.count() takes exactly one argument (0 given)"
     ]
    }
   ],
   "source": [
    "tup_1.count()"
   ]
  },
  {
   "cell_type": "code",
   "execution_count": 19,
   "id": "b920d992-f1a3-4650-9bb4-95cad0fbdab8",
   "metadata": {},
   "outputs": [],
   "source": [
    "tup_1 = (1,3,4,5,7,8,2,3,4,1,1,1,1,3,6,7,7,7,4)"
   ]
  },
  {
   "cell_type": "code",
   "execution_count": 22,
   "id": "e2621490-f1e1-4595-bb71-da2f51a99d5c",
   "metadata": {},
   "outputs": [
    {
     "data": {
      "text/plain": [
       "5"
      ]
     },
     "execution_count": 22,
     "metadata": {},
     "output_type": "execute_result"
    }
   ],
   "source": [
    "tup_1.count(1) #how much times 1 is available in tup_1"
   ]
  },
  {
   "cell_type": "code",
   "execution_count": 24,
   "id": "6ce43b06-70b1-4f17-a774-568efb1486f5",
   "metadata": {},
   "outputs": [],
   "source": [
    "tup_1 = ([1,2,3],\"Hello\",1.2) #heterogenous tuple"
   ]
  },
  {
   "cell_type": "code",
   "execution_count": 25,
   "id": "b9e8d4a0-fe15-4b2d-89e8-2ecd71991e60",
   "metadata": {},
   "outputs": [],
   "source": [
    "tup = ('Raja')"
   ]
  },
  {
   "cell_type": "code",
   "execution_count": 26,
   "id": "c9a9dc5e-4478-46de-a59a-8dcdc858a88f",
   "metadata": {},
   "outputs": [
    {
     "data": {
      "text/plain": [
       "str"
      ]
     },
     "execution_count": 26,
     "metadata": {},
     "output_type": "execute_result"
    }
   ],
   "source": [
    "type(tup)"
   ]
  },
  {
   "cell_type": "code",
   "execution_count": 27,
   "id": "6f5203e2-917d-4daf-996c-c2611b606d14",
   "metadata": {},
   "outputs": [],
   "source": [
    "tup = ('Raja',)"
   ]
  },
  {
   "cell_type": "code",
   "execution_count": 28,
   "id": "64e047bd-30d7-4d29-8d81-7d64dd65699d",
   "metadata": {},
   "outputs": [
    {
     "data": {
      "text/plain": [
       "tuple"
      ]
     },
     "execution_count": 28,
     "metadata": {},
     "output_type": "execute_result"
    }
   ],
   "source": [
    "type(tup)"
   ]
  },
  {
   "cell_type": "code",
   "execution_count": 29,
   "id": "2097fca6-678a-4a1c-885d-7ec7b65e5b2e",
   "metadata": {},
   "outputs": [],
   "source": [
    "tup = (1,2,3)\n",
    "a,b,c = tup"
   ]
  },
  {
   "cell_type": "code",
   "execution_count": 30,
   "id": "a7e69a94-7d51-4689-9674-47cde015ca7f",
   "metadata": {},
   "outputs": [
    {
     "name": "stdout",
     "output_type": "stream",
     "text": [
      "1 2 3\n"
     ]
    }
   ],
   "source": [
    "print(a,b,c)"
   ]
  },
  {
   "cell_type": "markdown",
   "id": "2fd63fe3-d7a7-44a8-b433-29e792ff0787",
   "metadata": {},
   "source": [
    "# Sets In Python\n",
    "\n",
    "Elements will not repeat in sets.\n",
    "\n",
    "Order will not mention in sets.\n",
    "\n",
    "We use sets if we don't use repeated things"
   ]
  },
  {
   "cell_type": "code",
   "execution_count": 31,
   "id": "ba71932a-4b36-4fb1-a21f-2f1b6331da93",
   "metadata": {},
   "outputs": [],
   "source": [
    "s1 = {1,2,3,4}\n",
    "s2 = {2,4,6,8}"
   ]
  },
  {
   "cell_type": "code",
   "execution_count": 32,
   "id": "c36c2554-4f87-4386-a74b-2d008e33a01e",
   "metadata": {},
   "outputs": [
    {
     "name": "stdout",
     "output_type": "stream",
     "text": [
      "{1, 2, 3, 4}\n"
     ]
    }
   ],
   "source": [
    "print(s1)"
   ]
  },
  {
   "cell_type": "code",
   "execution_count": 33,
   "id": "7b50f50e-30bc-471d-a167-e17b31b3b63e",
   "metadata": {},
   "outputs": [
    {
     "name": "stdout",
     "output_type": "stream",
     "text": [
      "1\n",
      "2\n",
      "3\n",
      "4\n"
     ]
    }
   ],
   "source": [
    "for ele in s1:\n",
    "    print(ele)"
   ]
  },
  {
   "cell_type": "code",
   "execution_count": 36,
   "id": "45ffeef9-75b8-4e57-9c61-0074d9507709",
   "metadata": {},
   "outputs": [
    {
     "ename": "TypeError",
     "evalue": "'set' object is not subscriptable",
     "output_type": "error",
     "traceback": [
      "\u001b[1;31m---------------------------------------------------------------------------\u001b[0m",
      "\u001b[1;31mTypeError\u001b[0m                                 Traceback (most recent call last)",
      "Cell \u001b[1;32mIn[36], line 1\u001b[0m\n\u001b[1;32m----> 1\u001b[0m \u001b[43ms1\u001b[49m\u001b[43m[\u001b[49m\u001b[38;5;241;43m0\u001b[39;49m\u001b[43m]\u001b[49m  \n",
      "\u001b[1;31mTypeError\u001b[0m: 'set' object is not subscriptable"
     ]
    }
   ],
   "source": [
    "s1[0]  "
   ]
  },
  {
   "cell_type": "code",
   "execution_count": 37,
   "id": "df418907-6ce3-4c58-a23d-19936b246d8b",
   "metadata": {},
   "outputs": [],
   "source": [
    "s1.add(5)"
   ]
  },
  {
   "cell_type": "code",
   "execution_count": 38,
   "id": "0192c694-ba2a-4a79-8b3f-e2736f53ecb8",
   "metadata": {},
   "outputs": [
    {
     "name": "stdout",
     "output_type": "stream",
     "text": [
      "{1, 2, 3, 4, 5}\n"
     ]
    }
   ],
   "source": [
    "print(s1)"
   ]
  },
  {
   "cell_type": "code",
   "execution_count": 39,
   "id": "2caab996-aab5-4879-afc5-4d87534d5d52",
   "metadata": {},
   "outputs": [],
   "source": [
    "s1.add(5)"
   ]
  },
  {
   "cell_type": "code",
   "execution_count": 40,
   "id": "8a9ba20b-2494-41e4-b758-8cd3bd1ac720",
   "metadata": {},
   "outputs": [
    {
     "name": "stdout",
     "output_type": "stream",
     "text": [
      "{1, 2, 3, 4, 5}\n"
     ]
    }
   ],
   "source": [
    "print(s1)"
   ]
  },
  {
   "cell_type": "code",
   "execution_count": 41,
   "id": "c5dff777-16b2-4e84-ab84-51c221615d7b",
   "metadata": {},
   "outputs": [],
   "source": [
    "s1.update([2,4,6])"
   ]
  },
  {
   "cell_type": "code",
   "execution_count": 42,
   "id": "65d40e17-524f-45b7-a075-a19a864a8ed4",
   "metadata": {},
   "outputs": [
    {
     "name": "stdout",
     "output_type": "stream",
     "text": [
      "{1, 2, 3, 4, 5, 6}\n"
     ]
    }
   ],
   "source": [
    "print(s1)"
   ]
  },
  {
   "cell_type": "code",
   "execution_count": 43,
   "id": "3a831b3d-e8a6-4553-9aa6-7d7536475baa",
   "metadata": {},
   "outputs": [
    {
     "name": "stdout",
     "output_type": "stream",
     "text": [
      "{8, 2, 4, 6}\n"
     ]
    }
   ],
   "source": [
    "print(s2)"
   ]
  },
  {
   "cell_type": "markdown",
   "id": "12562b95-878a-4c57-bbeb-0d1b872d6741",
   "metadata": {},
   "source": [
    "# Union and Intersection In Sets"
   ]
  },
  {
   "cell_type": "code",
   "execution_count": 48,
   "id": "6280f593-22dc-47ca-a4d7-961c0b61da4d",
   "metadata": {},
   "outputs": [
    {
     "name": "stdout",
     "output_type": "stream",
     "text": [
      "{1, 2, 3, 4, 5, 6, 8}\n"
     ]
    }
   ],
   "source": [
    "print(s1.union(s2))"
   ]
  },
  {
   "cell_type": "code",
   "execution_count": 49,
   "id": "e38a469f-7e55-4483-944d-aba91d66e13c",
   "metadata": {},
   "outputs": [
    {
     "name": "stdout",
     "output_type": "stream",
     "text": [
      "{2, 4, 6}\n"
     ]
    }
   ],
   "source": [
    "print(s1.intersection(s2))"
   ]
  },
  {
   "cell_type": "code",
   "execution_count": 50,
   "id": "64b03f2c-30a8-41d3-b49f-e441241acf5c",
   "metadata": {},
   "outputs": [
    {
     "data": {
      "text/plain": [
       "{1, 3, 5}"
      ]
     },
     "execution_count": 50,
     "metadata": {},
     "output_type": "execute_result"
    }
   ],
   "source": [
    "s1 - s2"
   ]
  },
  {
   "cell_type": "code",
   "execution_count": 51,
   "id": "a05ea702-059e-4523-8c00-774729132194",
   "metadata": {},
   "outputs": [
    {
     "data": {
      "text/plain": [
       "{8}"
      ]
     },
     "execution_count": 51,
     "metadata": {},
     "output_type": "execute_result"
    }
   ],
   "source": [
    "s2 - s1"
   ]
  },
  {
   "cell_type": "markdown",
   "id": "2cbbd23c-16ff-4f70-b602-6d727412fafc",
   "metadata": {},
   "source": [
    "# Dictionaries In Python\n",
    "\n",
    "Unordered List with key and value Pair"
   ]
  },
  {
   "cell_type": "code",
   "execution_count": null,
   "id": "8e35b61f-b23a-4e62-8b46-f74185ed0f30",
   "metadata": {},
   "outputs": [],
   "source": []
  }
 ],
 "metadata": {
  "kernelspec": {
   "display_name": "Python 3 (ipykernel)",
   "language": "python",
   "name": "python3"
  },
  "language_info": {
   "codemirror_mode": {
    "name": "ipython",
    "version": 3
   },
   "file_extension": ".py",
   "mimetype": "text/x-python",
   "name": "python",
   "nbconvert_exporter": "python",
   "pygments_lexer": "ipython3",
   "version": "3.11.7"
  }
 },
 "nbformat": 4,
 "nbformat_minor": 5
}
