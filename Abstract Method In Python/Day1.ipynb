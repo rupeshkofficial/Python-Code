{
 "cells": [
  {
   "cell_type": "code",
   "execution_count": 17,
   "id": "62f9fb91-c968-4964-b4d2-eb53afca4459",
   "metadata": {},
   "outputs": [
    {
     "name": "stdout",
     "output_type": "stream",
     "text": [
      "42\n"
     ]
    }
   ],
   "source": [
    "# ABC python me ek module hota hai\n",
    "# agr hm kisi v class ko ABC class se inherit krenge to o class apne child class ko ye aadesh de sakti hai ki kuch method ko implement krna hi krn hai.\n",
    "# jaise yha Rectanle class \n",
    "\n",
    "\n",
    "from abc import ABC, abstractmethod\n",
    "\n",
    "class Shape(ABC):\n",
    "    @abstractmethod\n",
    "    def printarea(self):\n",
    "        return 0\n",
    "\n",
    "class Rectangle(Shape):\n",
    "    type = \"Rectangle\"\n",
    "    sides = 4\n",
    "    \n",
    "    def __init__(self):\n",
    "        self.length = 6\n",
    "        self.breadth = 7\n",
    "    \n",
    "    def printarea(self):\n",
    "        return self.length * self.breadth\n",
    "\n",
    "rect1 = Rectangle()\n",
    "print(rect1.printarea())\n",
    "\n",
    "        "
   ]
  },
  {
   "cell_type": "code",
   "execution_count": null,
   "id": "e27b9f62-df60-48da-8115-b2a025f273de",
   "metadata": {},
   "outputs": [],
   "source": []
  }
 ],
 "metadata": {
  "kernelspec": {
   "display_name": "Python 3 (ipykernel)",
   "language": "python",
   "name": "python3"
  },
  "language_info": {
   "codemirror_mode": {
    "name": "ipython",
    "version": 3
   },
   "file_extension": ".py",
   "mimetype": "text/x-python",
   "name": "python",
   "nbconvert_exporter": "python",
   "pygments_lexer": "ipython3",
   "version": "3.11.7"
  }
 },
 "nbformat": 4,
 "nbformat_minor": 5
}
