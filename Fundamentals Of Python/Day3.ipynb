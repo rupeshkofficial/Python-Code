{
 "cells": [
  {
   "cell_type": "markdown",
   "id": "5adc6129-c5b5-4074-9840-831b24ba9a09",
   "metadata": {},
   "source": [
    "#Operators In Python\n",
    "\n",
    "Arithmetic  Operator\n",
    "\n",
    "Boolean Operator"
   ]
  },
  {
   "cell_type": "code",
   "execution_count": 2,
   "id": "4b9bf5c9-aff0-4f0e-9858-8fae473a4332",
   "metadata": {},
   "outputs": [
    {
     "name": "stdout",
     "output_type": "stream",
     "text": [
      "10\n",
      "4\n",
      "21\n",
      "2.3333333333333335\n",
      "2\n",
      "343\n"
     ]
    }
   ],
   "source": [
    "#Arithmetic Operator\n",
    "a = 7\n",
    "b = 3\n",
    "\n",
    "#addition\n",
    "print(a+b)\n",
    "\n",
    "#substraction\n",
    "print(a-b)\n",
    "\n",
    "#multiplication\n",
    "print(a*b)\n",
    "\n",
    "#division\n",
    "print(a/b)\n",
    "\n",
    "#integer division\n",
    "print(a//b)\n",
    "\n",
    "#power \n",
    "print(7**3)"
   ]
  },
  {
   "cell_type": "code",
   "execution_count": 4,
   "id": "81dd1ef6-edea-4aa0-bd1e-471cdd4a86af",
   "metadata": {},
   "outputs": [
    {
     "name": "stdout",
     "output_type": "stream",
     "text": [
      "True\n",
      "False\n",
      "False\n"
     ]
    }
   ],
   "source": [
    "#Boolen Opertor\n",
    "\n",
    "a = 100\n",
    "b = 69\n",
    "print(a>b)\n",
    "print(a<b)\n",
    "print(a==b)"
   ]
  },
  {
   "cell_type": "code",
   "execution_count": 6,
   "id": "c82428c6-7aee-4643-8962-9f5ba6df7858",
   "metadata": {},
   "outputs": [
    {
     "name": "stdout",
     "output_type": "stream",
     "text": [
      "False\n"
     ]
    }
   ],
   "source": [
    "#Boolen Opertor\n",
    "\n",
    "a = 100\n",
    "b = '100'\n",
    "print(a==b)"
   ]
  },
  {
   "cell_type": "code",
   "execution_count": 7,
   "id": "5f54447b-7a5f-475c-9ca6-ef33727ab0e6",
   "metadata": {},
   "outputs": [
    {
     "name": "stdout",
     "output_type": "stream",
     "text": [
      "True\n"
     ]
    }
   ],
   "source": [
    "#Boolen Opertor\n",
    "\n",
    "a = 100\n",
    "b = 100\n",
    "print(a==b)"
   ]
  },
  {
   "cell_type": "code",
   "execution_count": 8,
   "id": "dbf5960b-d117-4672-b80d-faa0c2edef65",
   "metadata": {},
   "outputs": [
    {
     "name": "stdout",
     "output_type": "stream",
     "text": [
      "True\n"
     ]
    }
   ],
   "source": [
    "#Logical Operator\n",
    "\n",
    "a = 100\n",
    "b = 69\n",
    "print(a!=b)"
   ]
  },
  {
   "cell_type": "code",
   "execution_count": 10,
   "id": "178afc17-995e-4ca0-82ce-470f33d76ee2",
   "metadata": {},
   "outputs": [
    {
     "name": "stdout",
     "output_type": "stream",
     "text": [
      "69\n"
     ]
    }
   ],
   "source": [
    "#increment operator\n",
    "\n",
    "a= 68\n",
    "a = a+1\n",
    "print(a)"
   ]
  },
  {
   "cell_type": "code",
   "execution_count": 11,
   "id": "40a680e6-9c84-4238-b97c-13f96322666d",
   "metadata": {},
   "outputs": [
    {
     "name": "stdout",
     "output_type": "stream",
     "text": [
      "69\n"
     ]
    }
   ],
   "source": [
    "a = 68\n",
    "a +=1\n",
    "print(a)"
   ]
  },
  {
   "cell_type": "code",
   "execution_count": 12,
   "id": "65e1905d-49b1-4963-bd23-09cc54774a2d",
   "metadata": {},
   "outputs": [
    {
     "name": "stdout",
     "output_type": "stream",
     "text": [
      "69.0\n"
     ]
    }
   ],
   "source": [
    "a = 34.5\n",
    "a *=2 # a = a*2\n",
    "print(a)"
   ]
  },
  {
   "cell_type": "markdown",
   "id": "7055147d-252b-4b2f-9a25-65683cc9403c",
   "metadata": {},
   "source": [
    "#in\n",
    "\n",
    "#is\n",
    "\n",
    "#is not"
   ]
  },
  {
   "cell_type": "code",
   "execution_count": 13,
   "id": "44577a13-3fc5-427c-8d6d-c3065eb654bb",
   "metadata": {},
   "outputs": [],
   "source": [
    "message = 'Hello Good Morning Everyone'\n"
   ]
  },
  {
   "cell_type": "code",
   "execution_count": 14,
   "id": "170b8f8a-8b94-4ddc-a9d3-d668adf8671a",
   "metadata": {},
   "outputs": [
    {
     "data": {
      "text/plain": [
       "True"
      ]
     },
     "execution_count": 14,
     "metadata": {},
     "output_type": "execute_result"
    }
   ],
   "source": [
    "'Good' in message"
   ]
  },
  {
   "cell_type": "code",
   "execution_count": 15,
   "id": "d1178afc-73fe-4910-9f70-d0c37e7bf07c",
   "metadata": {},
   "outputs": [
    {
     "data": {
      "text/plain": [
       "True"
      ]
     },
     "execution_count": 15,
     "metadata": {},
     "output_type": "execute_result"
    }
   ],
   "source": [
    "'oo' in message"
   ]
  },
  {
   "cell_type": "code",
   "execution_count": null,
   "id": "e4b9984c-f5b5-4bbd-8188-e7afaccbf9d9",
   "metadata": {},
   "outputs": [],
   "source": [
    "' G' in message"
   ]
  }
 ],
 "metadata": {
  "kernelspec": {
   "display_name": "Python 3 (ipykernel)",
   "language": "python",
   "name": "python3"
  },
  "language_info": {
   "codemirror_mode": {
    "name": "ipython",
    "version": 3
   },
   "file_extension": ".py",
   "mimetype": "text/x-python",
   "name": "python",
   "nbconvert_exporter": "python",
   "pygments_lexer": "ipython3",
   "version": "3.11.7"
  }
 },
 "nbformat": 4,
 "nbformat_minor": 5
}
